{
 "cells": [
  {
   "cell_type": "markdown",
   "metadata": {},
   "source": [
    "### Overview:\n",
    "The goal of this analysis is to apply data science skills to a real-world scenario in the form of a mock census. This notebook goes through the data cleaning process, and then analyses the cleaned dataset to answer the following two questions:\n",
    "1-What should be built on an unoccupied plot of land that the local government wishes to develop?\n",
    "2- What should be invested in? (Employement, Schooling, Old age care....)"
   ]
  },
  {
   "cell_type": "markdown",
   "metadata": {},
   "source": [
    "# First: Data Overview"
   ]
  },
  {
   "cell_type": "code",
   "execution_count": 1,
   "metadata": {},
   "outputs": [],
   "source": [
    "# Importing needed libraries\n",
    "import pandas as pd\n",
    "import numpy as np\n",
    "import matplotlib.pyplot as plt\n",
    "import seaborn as sns"
   ]
  },
  {
   "cell_type": "code",
   "execution_count": null,
   "metadata": {},
   "outputs": [],
   "source": [
    "# Read the CSV file\n",
    "original_df = pd.read_csv('Census_data.csv')"
   ]
  },
  {
   "cell_type": "code",
   "execution_count": 3,
   "metadata": {},
   "outputs": [
    {
     "data": {
      "text/html": [
       "<div>\n",
       "<style scoped>\n",
       "    .dataframe tbody tr th:only-of-type {\n",
       "        vertical-align: middle;\n",
       "    }\n",
       "\n",
       "    .dataframe tbody tr th {\n",
       "        vertical-align: top;\n",
       "    }\n",
       "\n",
       "    .dataframe thead th {\n",
       "        text-align: right;\n",
       "    }\n",
       "</style>\n",
       "<table border=\"1\" class=\"dataframe\">\n",
       "  <thead>\n",
       "    <tr style=\"text-align: right;\">\n",
       "      <th></th>\n",
       "      <th>House Number</th>\n",
       "      <th>Street</th>\n",
       "      <th>First Name</th>\n",
       "      <th>Surname</th>\n",
       "      <th>Age</th>\n",
       "      <th>Relationship to Head of House</th>\n",
       "      <th>Marital Status</th>\n",
       "      <th>Gender</th>\n",
       "      <th>Occupation</th>\n",
       "      <th>Infirmity</th>\n",
       "      <th>Religion</th>\n",
       "    </tr>\n",
       "  </thead>\n",
       "  <tbody>\n",
       "    <tr>\n",
       "      <th>0</th>\n",
       "      <td>1</td>\n",
       "      <td>Scott Forks</td>\n",
       "      <td>Alice</td>\n",
       "      <td>Nicholson-Lowe</td>\n",
       "      <td>52</td>\n",
       "      <td>Head</td>\n",
       "      <td>Married</td>\n",
       "      <td>Female</td>\n",
       "      <td>Microbiologist</td>\n",
       "      <td>NaN</td>\n",
       "      <td>NaN</td>\n",
       "    </tr>\n",
       "    <tr>\n",
       "      <th>1</th>\n",
       "      <td>1</td>\n",
       "      <td>Scott Forks</td>\n",
       "      <td>Mitchell</td>\n",
       "      <td>Nicholson-Lowe</td>\n",
       "      <td>59</td>\n",
       "      <td>Husband</td>\n",
       "      <td>Married</td>\n",
       "      <td>Male</td>\n",
       "      <td>Homeopath</td>\n",
       "      <td>NaN</td>\n",
       "      <td>NaN</td>\n",
       "    </tr>\n",
       "    <tr>\n",
       "      <th>2</th>\n",
       "      <td>1</td>\n",
       "      <td>Scott Forks</td>\n",
       "      <td>Bernard</td>\n",
       "      <td>Nicholson-Lowe</td>\n",
       "      <td>14</td>\n",
       "      <td>Son</td>\n",
       "      <td>NaN</td>\n",
       "      <td>Male</td>\n",
       "      <td>Student</td>\n",
       "      <td>NaN</td>\n",
       "      <td>NaN</td>\n",
       "    </tr>\n",
       "    <tr>\n",
       "      <th>3</th>\n",
       "      <td>1</td>\n",
       "      <td>Scott Forks</td>\n",
       "      <td>Kieran</td>\n",
       "      <td>Nicholson-Lowe</td>\n",
       "      <td>13</td>\n",
       "      <td>Son</td>\n",
       "      <td>NaN</td>\n",
       "      <td>Male</td>\n",
       "      <td>Student</td>\n",
       "      <td>NaN</td>\n",
       "      <td>NaN</td>\n",
       "    </tr>\n",
       "    <tr>\n",
       "      <th>4</th>\n",
       "      <td>2</td>\n",
       "      <td>Scott Forks</td>\n",
       "      <td>Amy</td>\n",
       "      <td>Nicholls</td>\n",
       "      <td>41</td>\n",
       "      <td>Head</td>\n",
       "      <td>Married</td>\n",
       "      <td>Female</td>\n",
       "      <td>Publishing copy</td>\n",
       "      <td>NaN</td>\n",
       "      <td>Christian</td>\n",
       "    </tr>\n",
       "    <tr>\n",
       "      <th>...</th>\n",
       "      <td>...</td>\n",
       "      <td>...</td>\n",
       "      <td>...</td>\n",
       "      <td>...</td>\n",
       "      <td>...</td>\n",
       "      <td>...</td>\n",
       "      <td>...</td>\n",
       "      <td>...</td>\n",
       "      <td>...</td>\n",
       "      <td>...</td>\n",
       "      <td>...</td>\n",
       "    </tr>\n",
       "    <tr>\n",
       "      <th>9538</th>\n",
       "      <td>1</td>\n",
       "      <td>Baker Rocks</td>\n",
       "      <td>Neil</td>\n",
       "      <td>Douglas</td>\n",
       "      <td>47</td>\n",
       "      <td>NaN</td>\n",
       "      <td>Single</td>\n",
       "      <td>male</td>\n",
       "      <td>Translator</td>\n",
       "      <td>NaN</td>\n",
       "      <td>NaN</td>\n",
       "    </tr>\n",
       "    <tr>\n",
       "      <th>9539</th>\n",
       "      <td>1</td>\n",
       "      <td>Baker Rocks</td>\n",
       "      <td>Sylvia</td>\n",
       "      <td>Ali</td>\n",
       "      <td>34</td>\n",
       "      <td>NaN</td>\n",
       "      <td>Single</td>\n",
       "      <td>Female</td>\n",
       "      <td>Engineer, drilling</td>\n",
       "      <td>NaN</td>\n",
       "      <td>Muslim</td>\n",
       "    </tr>\n",
       "    <tr>\n",
       "      <th>9540</th>\n",
       "      <td>1</td>\n",
       "      <td>Baker Rocks</td>\n",
       "      <td>Janet</td>\n",
       "      <td>Wall</td>\n",
       "      <td>26</td>\n",
       "      <td>NaN</td>\n",
       "      <td>Single</td>\n",
       "      <td>Female</td>\n",
       "      <td>Musician</td>\n",
       "      <td>NaN</td>\n",
       "      <td>Christian</td>\n",
       "    </tr>\n",
       "    <tr>\n",
       "      <th>9541</th>\n",
       "      <td>1</td>\n",
       "      <td>Baker Rocks</td>\n",
       "      <td>Jennifer</td>\n",
       "      <td>Matthews</td>\n",
       "      <td>53</td>\n",
       "      <td>NaN</td>\n",
       "      <td>Single</td>\n",
       "      <td>Female</td>\n",
       "      <td>Event organiser</td>\n",
       "      <td>NaN</td>\n",
       "      <td>Christian</td>\n",
       "    </tr>\n",
       "    <tr>\n",
       "      <th>9542</th>\n",
       "      <td>1</td>\n",
       "      <td>Baker Rocks</td>\n",
       "      <td>Marc</td>\n",
       "      <td>Lewis</td>\n",
       "      <td>38</td>\n",
       "      <td>NaN</td>\n",
       "      <td>Single</td>\n",
       "      <td>Male</td>\n",
       "      <td>Hydrographic surveyor</td>\n",
       "      <td>NaN</td>\n",
       "      <td>NaN</td>\n",
       "    </tr>\n",
       "  </tbody>\n",
       "</table>\n",
       "<p>9543 rows × 11 columns</p>\n",
       "</div>"
      ],
      "text/plain": [
       "     House Number       Street First Name         Surname Age  \\\n",
       "0               1  Scott Forks      Alice  Nicholson-Lowe  52   \n",
       "1               1  Scott Forks   Mitchell  Nicholson-Lowe  59   \n",
       "2               1  Scott Forks    Bernard  Nicholson-Lowe  14   \n",
       "3               1  Scott Forks     Kieran  Nicholson-Lowe  13   \n",
       "4               2  Scott Forks        Amy        Nicholls  41   \n",
       "...           ...          ...        ...             ...  ..   \n",
       "9538            1  Baker Rocks       Neil         Douglas  47   \n",
       "9539            1  Baker Rocks     Sylvia             Ali  34   \n",
       "9540            1  Baker Rocks      Janet            Wall  26   \n",
       "9541            1  Baker Rocks   Jennifer        Matthews  53   \n",
       "9542            1  Baker Rocks       Marc           Lewis  38   \n",
       "\n",
       "     Relationship to Head of House Marital Status  Gender  \\\n",
       "0                             Head        Married  Female   \n",
       "1                          Husband        Married    Male   \n",
       "2                              Son            NaN    Male   \n",
       "3                              Son            NaN    Male   \n",
       "4                             Head        Married  Female   \n",
       "...                            ...            ...     ...   \n",
       "9538                           NaN         Single    male   \n",
       "9539                           NaN         Single  Female   \n",
       "9540                           NaN         Single  Female   \n",
       "9541                           NaN         Single  Female   \n",
       "9542                           NaN         Single    Male   \n",
       "\n",
       "                 Occupation Infirmity   Religion  \n",
       "0            Microbiologist       NaN        NaN  \n",
       "1                 Homeopath       NaN        NaN  \n",
       "2                   Student       NaN        NaN  \n",
       "3                   Student       NaN        NaN  \n",
       "4           Publishing copy       NaN  Christian  \n",
       "...                     ...       ...        ...  \n",
       "9538             Translator       NaN        NaN  \n",
       "9539     Engineer, drilling       NaN     Muslim  \n",
       "9540               Musician       NaN  Christian  \n",
       "9541        Event organiser       NaN  Christian  \n",
       "9542  Hydrographic surveyor       NaN        NaN  \n",
       "\n",
       "[9543 rows x 11 columns]"
      ]
     },
     "execution_count": 3,
     "metadata": {},
     "output_type": "execute_result"
    }
   ],
   "source": [
    "# See the data\n",
    "original_df"
   ]
  },
  {
   "cell_type": "code",
   "execution_count": 4,
   "metadata": {},
   "outputs": [
    {
     "name": "stdout",
     "output_type": "stream",
     "text": [
      "<class 'pandas.core.frame.DataFrame'>\n",
      "RangeIndex: 9543 entries, 0 to 9542\n",
      "Data columns (total 11 columns):\n",
      " #   Column                         Non-Null Count  Dtype \n",
      "---  ------                         --------------  ----- \n",
      " 0   House Number                   9543 non-null   object\n",
      " 1   Street                         9543 non-null   object\n",
      " 2   First Name                     9543 non-null   object\n",
      " 3   Surname                        9543 non-null   object\n",
      " 4   Age                            9543 non-null   object\n",
      " 5   Relationship to Head of House  8829 non-null   object\n",
      " 6   Marital Status                 7350 non-null   object\n",
      " 7   Gender                         9543 non-null   object\n",
      " 8   Occupation                     9543 non-null   object\n",
      " 9   Infirmity                      78 non-null     object\n",
      " 10  Religion                       4115 non-null   object\n",
      "dtypes: object(11)\n",
      "memory usage: 820.2+ KB\n"
     ]
    }
   ],
   "source": [
    "# quick way to check column type and number of non null values\n",
    "original_df.info()"
   ]
  },
  {
   "cell_type": "code",
   "execution_count": 5,
   "metadata": {},
   "outputs": [
    {
     "data": {
      "text/plain": [
       "House Number                        0\n",
       "Street                              0\n",
       "First Name                          0\n",
       "Surname                             0\n",
       "Age                                 0\n",
       "Relationship to Head of House     714\n",
       "Marital Status                   2193\n",
       "Gender                              0\n",
       "Occupation                          0\n",
       "Infirmity                        9465\n",
       "Religion                         5428\n",
       "dtype: int64"
      ]
     },
     "execution_count": 5,
     "metadata": {},
     "output_type": "execute_result"
    }
   ],
   "source": [
    "# Checking the number of null values in each column \n",
    "original_df.isnull().sum()"
   ]
  },
  {
   "cell_type": "code",
   "execution_count": 6,
   "metadata": {},
   "outputs": [
    {
     "data": {
      "text/html": [
       "<div>\n",
       "<style scoped>\n",
       "    .dataframe tbody tr th:only-of-type {\n",
       "        vertical-align: middle;\n",
       "    }\n",
       "\n",
       "    .dataframe tbody tr th {\n",
       "        vertical-align: top;\n",
       "    }\n",
       "\n",
       "    .dataframe thead th {\n",
       "        text-align: right;\n",
       "    }\n",
       "</style>\n",
       "<table border=\"1\" class=\"dataframe\">\n",
       "  <thead>\n",
       "    <tr style=\"text-align: right;\">\n",
       "      <th></th>\n",
       "      <th>House Number</th>\n",
       "      <th>Street</th>\n",
       "      <th>First Name</th>\n",
       "      <th>Surname</th>\n",
       "      <th>Age</th>\n",
       "      <th>Relationship to Head of House</th>\n",
       "      <th>Marital Status</th>\n",
       "      <th>Gender</th>\n",
       "      <th>Occupation</th>\n",
       "      <th>Infirmity</th>\n",
       "      <th>Religion</th>\n",
       "    </tr>\n",
       "  </thead>\n",
       "  <tbody>\n",
       "    <tr>\n",
       "      <th>count</th>\n",
       "      <td>9543</td>\n",
       "      <td>9543</td>\n",
       "      <td>9543</td>\n",
       "      <td>9543</td>\n",
       "      <td>9543</td>\n",
       "      <td>8829</td>\n",
       "      <td>7350</td>\n",
       "      <td>9543</td>\n",
       "      <td>9543</td>\n",
       "      <td>78</td>\n",
       "      <td>4115</td>\n",
       "    </tr>\n",
       "    <tr>\n",
       "      <th>unique</th>\n",
       "      <td>245</td>\n",
       "      <td>104</td>\n",
       "      <td>366</td>\n",
       "      <td>691</td>\n",
       "      <td>117</td>\n",
       "      <td>20</td>\n",
       "      <td>8</td>\n",
       "      <td>9</td>\n",
       "      <td>1107</td>\n",
       "      <td>7</td>\n",
       "      <td>13</td>\n",
       "    </tr>\n",
       "    <tr>\n",
       "      <th>top</th>\n",
       "      <td>1</td>\n",
       "      <td>Canary Avenue</td>\n",
       "      <td>Barbara</td>\n",
       "      <td>Smith</td>\n",
       "      <td>19</td>\n",
       "      <td>Head</td>\n",
       "      <td>Single</td>\n",
       "      <td>Female</td>\n",
       "      <td>Student</td>\n",
       "      <td>Physical Disability</td>\n",
       "      <td>Christian</td>\n",
       "    </tr>\n",
       "    <tr>\n",
       "      <th>freq</th>\n",
       "      <td>350</td>\n",
       "      <td>798</td>\n",
       "      <td>42</td>\n",
       "      <td>285</td>\n",
       "      <td>198</td>\n",
       "      <td>3342</td>\n",
       "      <td>3451</td>\n",
       "      <td>4880</td>\n",
       "      <td>1796</td>\n",
       "      <td>20</td>\n",
       "      <td>2172</td>\n",
       "    </tr>\n",
       "  </tbody>\n",
       "</table>\n",
       "</div>"
      ],
      "text/plain": [
       "       House Number         Street First Name Surname   Age  \\\n",
       "count          9543           9543       9543    9543  9543   \n",
       "unique          245            104        366     691   117   \n",
       "top               1  Canary Avenue    Barbara   Smith    19   \n",
       "freq            350            798         42     285   198   \n",
       "\n",
       "       Relationship to Head of House Marital Status  Gender Occupation  \\\n",
       "count                           8829           7350    9543       9543   \n",
       "unique                            20              8       9       1107   \n",
       "top                             Head         Single  Female    Student   \n",
       "freq                            3342           3451    4880       1796   \n",
       "\n",
       "                  Infirmity   Religion  \n",
       "count                    78       4115  \n",
       "unique                    7         13  \n",
       "top     Physical Disability  Christian  \n",
       "freq                     20       2172  "
      ]
     },
     "execution_count": 6,
     "metadata": {},
     "output_type": "execute_result"
    }
   ],
   "source": [
    "# Column quick informations\n",
    "original_df.describe()"
   ]
  },
  {
   "cell_type": "markdown",
   "metadata": {},
   "source": [
    "## What We learned so far:\n",
    "#### Columns : Relationship to Head of House, Marital Status, Infirmity and Religion contain null values\n",
    "#### The rest of the columns, although don't appear at first glance to have missing values, they could hide other problems: Inconsistent values, blank entries, false information.\n",
    "#### Next step is to examine each column"
   ]
  },
  {
   "cell_type": "markdown",
   "metadata": {},
   "source": [
    "# Data Cleaning"
   ]
  },
  {
   "cell_type": "code",
   "execution_count": 7,
   "metadata": {},
   "outputs": [],
   "source": [
    "# Before we start with any cleaning, we make a copy of the original data\n",
    "df = original_df.copy()"
   ]
  },
  {
   "cell_type": "markdown",
   "metadata": {},
   "source": [
    "### Age Column"
   ]
  },
  {
   "cell_type": "code",
   "execution_count": 8,
   "metadata": {},
   "outputs": [
    {
     "data": {
      "text/plain": [
       "array(['52', '59', '14', '13', '41', '43', '12', '76', '78', '48', '20',\n",
       "       '16', '8', '39', '6', '1', '65', '66', '29', '26', '73', '38',\n",
       "       '31', '34', '3', '0', '60', '62', '25', '22', '18', '56', '53',\n",
       "       '19', '75', '36', '42', '35', '23', '49', '27', '89', '86', '11',\n",
       "       '54', '24', '44', '45', '51', '55', '47', '21', '57', '68', '72',\n",
       "       '40', '33', '30', '63', '50', '4', '71', '85', '10', '67', '64',\n",
       "       '32', '2', '9', '5', '61', '15', '17', '7', '58', '81', '74', '77',\n",
       "       '46', '69', '80', '37', '28', '83', '79', '70', '92', '84', '93',\n",
       "       '82', '79.77226286', '82.77226286', '87', '103', '95', '106', '88',\n",
       "       '100', '91', '90.6967748', '96', '105', '94', '102', '104', '108',\n",
       "       '90', 'twenty eight', '107', '98', ' ', '80.58881184', '97',\n",
       "       '62.70684789', '61.70684789', '71.43034858', '72.43034858'],\n",
       "      dtype=object)"
      ]
     },
     "execution_count": 8,
     "metadata": {},
     "output_type": "execute_result"
    }
   ],
   "source": [
    "df['Age'].unique()"
   ]
  },
  {
   "cell_type": "code",
   "execution_count": null,
   "metadata": {},
   "outputs": [],
   "source": [
    "'''\n",
    "Problems detected:\n",
    "- Float values\n",
    "- One entry with letters\n",
    "- One Blank\n",
    "'''"
   ]
  },
  {
   "cell_type": "code",
   "execution_count": 10,
   "metadata": {},
   "outputs": [
    {
     "data": {
      "text/html": [
       "<div>\n",
       "<style scoped>\n",
       "    .dataframe tbody tr th:only-of-type {\n",
       "        vertical-align: middle;\n",
       "    }\n",
       "\n",
       "    .dataframe tbody tr th {\n",
       "        vertical-align: top;\n",
       "    }\n",
       "\n",
       "    .dataframe thead th {\n",
       "        text-align: right;\n",
       "    }\n",
       "</style>\n",
       "<table border=\"1\" class=\"dataframe\">\n",
       "  <thead>\n",
       "    <tr style=\"text-align: right;\">\n",
       "      <th></th>\n",
       "      <th>House Number</th>\n",
       "      <th>Street</th>\n",
       "      <th>First Name</th>\n",
       "      <th>Surname</th>\n",
       "      <th>Age</th>\n",
       "      <th>Relationship to Head of House</th>\n",
       "      <th>Marital Status</th>\n",
       "      <th>Gender</th>\n",
       "      <th>Occupation</th>\n",
       "      <th>Infirmity</th>\n",
       "      <th>Religion</th>\n",
       "    </tr>\n",
       "  </thead>\n",
       "  <tbody>\n",
       "    <tr>\n",
       "      <th>6487</th>\n",
       "      <td>227</td>\n",
       "      <td>White Branch</td>\n",
       "      <td>Reece</td>\n",
       "      <td>Riley</td>\n",
       "      <td></td>\n",
       "      <td>Son</td>\n",
       "      <td>NaN</td>\n",
       "      <td>Male</td>\n",
       "      <td>Child</td>\n",
       "      <td>NaN</td>\n",
       "      <td>NaN</td>\n",
       "    </tr>\n",
       "  </tbody>\n",
       "</table>\n",
       "</div>"
      ],
      "text/plain": [
       "     House Number        Street First Name Surname Age  \\\n",
       "6487          227  White Branch      Reece   Riley       \n",
       "\n",
       "     Relationship to Head of House Marital Status Gender Occupation Infirmity  \\\n",
       "6487                           Son            NaN   Male      Child       NaN   \n",
       "\n",
       "     Religion  \n",
       "6487      NaN  "
      ]
     },
     "execution_count": 10,
     "metadata": {},
     "output_type": "execute_result"
    }
   ],
   "source": [
    "# Find the row with the blank entry\n",
    "original_df[original_df['Age'] == ' ']"
   ]
  },
  {
   "cell_type": "code",
   "execution_count": 11,
   "metadata": {},
   "outputs": [],
   "source": [
    "# Replace the age value\n",
    "df['Age'] = df['Age'].replace('twenty eight', '28')\n",
    "\n",
    "# Convert to numeric, round floats, and handle invalid entries\n",
    "df['Age'] = pd.to_numeric(df['Age'], errors='coerce').round().astype('Int64')\n",
    "\n",
    "# Guessing the age using this key information: Occupation -> Child, age should be between 0 and 4\n",
    "children = df[df['Age'].between(0, 4, inclusive='both')]\n",
    "median_child_age = children['Age'].median() # use the median age of children to impute the blank entry\n",
    "df.at[6487, 'Age'] = median_child_age"
   ]
  },
  {
   "cell_type": "markdown",
   "metadata": {},
   "source": [
    "### Gender column"
   ]
  },
  {
   "cell_type": "code",
   "execution_count": 12,
   "metadata": {},
   "outputs": [
    {
     "data": {
      "text/plain": [
       "array(['Female', 'Male', 'M', 'male', 'F', 'female', 'f', 'm', ' '],\n",
       "      dtype=object)"
      ]
     },
     "execution_count": 12,
     "metadata": {},
     "output_type": "execute_result"
    }
   ],
   "source": [
    "df['Gender'].unique()"
   ]
  },
  {
   "cell_type": "code",
   "execution_count": null,
   "metadata": {},
   "outputs": [],
   "source": [
    "'''\n",
    "Problems:\n",
    "- No standarized format for Female and Male\n",
    "- Blank Entry\n",
    "'''"
   ]
  },
  {
   "cell_type": "code",
   "execution_count": 14,
   "metadata": {},
   "outputs": [
    {
     "data": {
      "text/html": [
       "<div>\n",
       "<style scoped>\n",
       "    .dataframe tbody tr th:only-of-type {\n",
       "        vertical-align: middle;\n",
       "    }\n",
       "\n",
       "    .dataframe tbody tr th {\n",
       "        vertical-align: top;\n",
       "    }\n",
       "\n",
       "    .dataframe thead th {\n",
       "        text-align: right;\n",
       "    }\n",
       "</style>\n",
       "<table border=\"1\" class=\"dataframe\">\n",
       "  <thead>\n",
       "    <tr style=\"text-align: right;\">\n",
       "      <th></th>\n",
       "      <th>House Number</th>\n",
       "      <th>Street</th>\n",
       "      <th>First Name</th>\n",
       "      <th>Surname</th>\n",
       "      <th>Age</th>\n",
       "      <th>Relationship to Head of House</th>\n",
       "      <th>Marital Status</th>\n",
       "      <th>Gender</th>\n",
       "      <th>Occupation</th>\n",
       "      <th>Infirmity</th>\n",
       "      <th>Religion</th>\n",
       "    </tr>\n",
       "  </thead>\n",
       "  <tbody>\n",
       "    <tr>\n",
       "      <th>8713</th>\n",
       "      <td>15</td>\n",
       "      <td>Spencer Avenue</td>\n",
       "      <td>Mary</td>\n",
       "      <td>Brooks</td>\n",
       "      <td>58</td>\n",
       "      <td>Head</td>\n",
       "      <td>Single</td>\n",
       "      <td></td>\n",
       "      <td>Unemployed</td>\n",
       "      <td>NaN</td>\n",
       "      <td>Christian</td>\n",
       "    </tr>\n",
       "  </tbody>\n",
       "</table>\n",
       "</div>"
      ],
      "text/plain": [
       "     House Number          Street First Name Surname  Age  \\\n",
       "8713           15  Spencer Avenue       Mary  Brooks   58   \n",
       "\n",
       "     Relationship to Head of House Marital Status Gender  Occupation  \\\n",
       "8713                          Head         Single         Unemployed   \n",
       "\n",
       "     Infirmity   Religion  \n",
       "8713       NaN  Christian  "
      ]
     },
     "execution_count": 14,
     "metadata": {},
     "output_type": "execute_result"
    }
   ],
   "source": [
    "# Find the blank Row\n",
    "df[df['Gender'] == ' ']"
   ]
  },
  {
   "cell_type": "code",
   "execution_count": 15,
   "metadata": {},
   "outputs": [],
   "source": [
    "# Standarize the column to have : Male / Female\n",
    "gender_mapping = {\n",
    "    'male': 'Male',\n",
    "    'M': 'Male',\n",
    "    'm': 'Male',\n",
    "    'Male': 'Male',  \n",
    "    'female': 'Female',\n",
    "    'F': 'Female',\n",
    "    'f': 'Female',\n",
    "    'Female': 'Female'\n",
    "}\n",
    "# Apply the mapping to standardize values\n",
    "df['Gender'] = df['Gender'].map(gender_mapping)\n",
    "\n",
    "# Gueesing from the First Name: Mary, to be a female\n",
    "df.at[8713, 'Gender'] = 'Female'"
   ]
  },
  {
   "cell_type": "code",
   "execution_count": 16,
   "metadata": {},
   "outputs": [
    {
     "data": {
      "text/plain": [
       "array(['Female', 'Male'], dtype=object)"
      ]
     },
     "execution_count": 16,
     "metadata": {},
     "output_type": "execute_result"
    }
   ],
   "source": [
    "# Checking if it got fixed\n",
    "df['Gender'].unique()"
   ]
  },
  {
   "cell_type": "markdown",
   "metadata": {},
   "source": [
    "### Surname Column"
   ]
  },
  {
   "cell_type": "code",
   "execution_count": 17,
   "metadata": {},
   "outputs": [
    {
     "data": {
      "text/html": [
       "<div>\n",
       "<style scoped>\n",
       "    .dataframe tbody tr th:only-of-type {\n",
       "        vertical-align: middle;\n",
       "    }\n",
       "\n",
       "    .dataframe tbody tr th {\n",
       "        vertical-align: top;\n",
       "    }\n",
       "\n",
       "    .dataframe thead th {\n",
       "        text-align: right;\n",
       "    }\n",
       "</style>\n",
       "<table border=\"1\" class=\"dataframe\">\n",
       "  <thead>\n",
       "    <tr style=\"text-align: right;\">\n",
       "      <th></th>\n",
       "      <th>House Number</th>\n",
       "      <th>Street</th>\n",
       "      <th>First Name</th>\n",
       "      <th>Surname</th>\n",
       "      <th>Age</th>\n",
       "      <th>Relationship to Head of House</th>\n",
       "      <th>Marital Status</th>\n",
       "      <th>Gender</th>\n",
       "      <th>Occupation</th>\n",
       "      <th>Infirmity</th>\n",
       "      <th>Religion</th>\n",
       "    </tr>\n",
       "  </thead>\n",
       "  <tbody>\n",
       "    <tr>\n",
       "      <th>975</th>\n",
       "      <td>31</td>\n",
       "      <td>Newrywalk Drive</td>\n",
       "      <td>Lindsey</td>\n",
       "      <td></td>\n",
       "      <td>52</td>\n",
       "      <td>Head</td>\n",
       "      <td>Married</td>\n",
       "      <td>Female</td>\n",
       "      <td>Sales professional, IT</td>\n",
       "      <td>NaN</td>\n",
       "      <td>Christian</td>\n",
       "    </tr>\n",
       "    <tr>\n",
       "      <th>8265</th>\n",
       "      <td>27</td>\n",
       "      <td>Pilgrim Drive</td>\n",
       "      <td>Ellie</td>\n",
       "      <td></td>\n",
       "      <td>2</td>\n",
       "      <td>Daughter</td>\n",
       "      <td>NaN</td>\n",
       "      <td>Female</td>\n",
       "      <td>Child</td>\n",
       "      <td>NaN</td>\n",
       "      <td>NaN</td>\n",
       "    </tr>\n",
       "  </tbody>\n",
       "</table>\n",
       "</div>"
      ],
      "text/plain": [
       "     House Number           Street First Name Surname  Age  \\\n",
       "975            31  Newrywalk Drive    Lindsey           52   \n",
       "8265           27    Pilgrim Drive      Ellie            2   \n",
       "\n",
       "     Relationship to Head of House Marital Status  Gender  \\\n",
       "975                           Head        Married  Female   \n",
       "8265                      Daughter            NaN  Female   \n",
       "\n",
       "                  Occupation Infirmity   Religion  \n",
       "975   Sales professional, IT       NaN  Christian  \n",
       "8265                   Child       NaN        NaN  "
      ]
     },
     "execution_count": 17,
     "metadata": {},
     "output_type": "execute_result"
    }
   ],
   "source": [
    "df[df['Surname'] == ' ']"
   ]
  },
  {
   "cell_type": "code",
   "execution_count": null,
   "metadata": {},
   "outputs": [],
   "source": [
    "'''\n",
    "Problems:\n",
    "-Two blank entries\n",
    "\n",
    "We can impute based on the Relationship to head of House and Gender\n",
    "'''"
   ]
  },
  {
   "cell_type": "code",
   "execution_count": 19,
   "metadata": {},
   "outputs": [
    {
     "data": {
      "text/html": [
       "<div>\n",
       "<style scoped>\n",
       "    .dataframe tbody tr th:only-of-type {\n",
       "        vertical-align: middle;\n",
       "    }\n",
       "\n",
       "    .dataframe tbody tr th {\n",
       "        vertical-align: top;\n",
       "    }\n",
       "\n",
       "    .dataframe thead th {\n",
       "        text-align: right;\n",
       "    }\n",
       "</style>\n",
       "<table border=\"1\" class=\"dataframe\">\n",
       "  <thead>\n",
       "    <tr style=\"text-align: right;\">\n",
       "      <th></th>\n",
       "      <th>House Number</th>\n",
       "      <th>Street</th>\n",
       "      <th>First Name</th>\n",
       "      <th>Surname</th>\n",
       "      <th>Age</th>\n",
       "      <th>Relationship to Head of House</th>\n",
       "      <th>Marital Status</th>\n",
       "      <th>Gender</th>\n",
       "      <th>Occupation</th>\n",
       "      <th>Infirmity</th>\n",
       "      <th>Religion</th>\n",
       "    </tr>\n",
       "  </thead>\n",
       "  <tbody>\n",
       "    <tr>\n",
       "      <th>975</th>\n",
       "      <td>31</td>\n",
       "      <td>Newrywalk Drive</td>\n",
       "      <td>Lindsey</td>\n",
       "      <td></td>\n",
       "      <td>52</td>\n",
       "      <td>Head</td>\n",
       "      <td>Married</td>\n",
       "      <td>Female</td>\n",
       "      <td>Sales professional, IT</td>\n",
       "      <td>NaN</td>\n",
       "      <td>Christian</td>\n",
       "    </tr>\n",
       "    <tr>\n",
       "      <th>976</th>\n",
       "      <td>31</td>\n",
       "      <td>Newrywalk Drive</td>\n",
       "      <td>Wayne</td>\n",
       "      <td>Williams</td>\n",
       "      <td>56</td>\n",
       "      <td>Husband</td>\n",
       "      <td>Married</td>\n",
       "      <td>Male</td>\n",
       "      <td>Training and development officer</td>\n",
       "      <td>NaN</td>\n",
       "      <td>Christian</td>\n",
       "    </tr>\n",
       "    <tr>\n",
       "      <th>977</th>\n",
       "      <td>31</td>\n",
       "      <td>Newrywalk Drive</td>\n",
       "      <td>Anne</td>\n",
       "      <td>Williams</td>\n",
       "      <td>16</td>\n",
       "      <td>Daughter</td>\n",
       "      <td>NaN</td>\n",
       "      <td>Female</td>\n",
       "      <td>Student</td>\n",
       "      <td>NaN</td>\n",
       "      <td>NaN</td>\n",
       "    </tr>\n",
       "  </tbody>\n",
       "</table>\n",
       "</div>"
      ],
      "text/plain": [
       "    House Number           Street First Name   Surname  Age  \\\n",
       "975           31  Newrywalk Drive    Lindsey             52   \n",
       "976           31  Newrywalk Drive      Wayne  Williams   56   \n",
       "977           31  Newrywalk Drive       Anne  Williams   16   \n",
       "\n",
       "    Relationship to Head of House Marital Status  Gender  \\\n",
       "975                          Head        Married  Female   \n",
       "976                       Husband        Married    Male   \n",
       "977                      Daughter            NaN  Female   \n",
       "\n",
       "                           Occupation Infirmity   Religion  \n",
       "975            Sales professional, IT       NaN  Christian  \n",
       "976  Training and development officer       NaN  Christian  \n",
       "977                           Student       NaN        NaN  "
      ]
     },
     "execution_count": 19,
     "metadata": {},
     "output_type": "execute_result"
    }
   ],
   "source": [
    "df[(df['House Number'] == '31') & (df['Street'] == 'Newrywalk Drive') ]"
   ]
  },
  {
   "cell_type": "code",
   "execution_count": 20,
   "metadata": {},
   "outputs": [],
   "source": [
    "# The person lives with 2 other people with the same  surname, and their relationship to her is Husband and Daughter, surely her surname will be the same\n",
    "df.at[975, 'Surname'] = 'Williams'"
   ]
  },
  {
   "cell_type": "code",
   "execution_count": 21,
   "metadata": {},
   "outputs": [
    {
     "data": {
      "text/html": [
       "<div>\n",
       "<style scoped>\n",
       "    .dataframe tbody tr th:only-of-type {\n",
       "        vertical-align: middle;\n",
       "    }\n",
       "\n",
       "    .dataframe tbody tr th {\n",
       "        vertical-align: top;\n",
       "    }\n",
       "\n",
       "    .dataframe thead th {\n",
       "        text-align: right;\n",
       "    }\n",
       "</style>\n",
       "<table border=\"1\" class=\"dataframe\">\n",
       "  <thead>\n",
       "    <tr style=\"text-align: right;\">\n",
       "      <th></th>\n",
       "      <th>House Number</th>\n",
       "      <th>Street</th>\n",
       "      <th>First Name</th>\n",
       "      <th>Surname</th>\n",
       "      <th>Age</th>\n",
       "      <th>Relationship to Head of House</th>\n",
       "      <th>Marital Status</th>\n",
       "      <th>Gender</th>\n",
       "      <th>Occupation</th>\n",
       "      <th>Infirmity</th>\n",
       "      <th>Religion</th>\n",
       "    </tr>\n",
       "  </thead>\n",
       "  <tbody>\n",
       "    <tr>\n",
       "      <th>8263</th>\n",
       "      <td>27</td>\n",
       "      <td>Pilgrim Drive</td>\n",
       "      <td>Howard</td>\n",
       "      <td>Hughes</td>\n",
       "      <td>43</td>\n",
       "      <td>Head</td>\n",
       "      <td>Married</td>\n",
       "      <td>Male</td>\n",
       "      <td>Radio broadcast assistant</td>\n",
       "      <td>NaN</td>\n",
       "      <td>Christian</td>\n",
       "    </tr>\n",
       "    <tr>\n",
       "      <th>8264</th>\n",
       "      <td>27</td>\n",
       "      <td>Pilgrim Drive</td>\n",
       "      <td>Susan</td>\n",
       "      <td>Hughes</td>\n",
       "      <td>38</td>\n",
       "      <td>Wife</td>\n",
       "      <td>Married</td>\n",
       "      <td>Female</td>\n",
       "      <td>Bonds trader</td>\n",
       "      <td>NaN</td>\n",
       "      <td>NaN</td>\n",
       "    </tr>\n",
       "    <tr>\n",
       "      <th>8265</th>\n",
       "      <td>27</td>\n",
       "      <td>Pilgrim Drive</td>\n",
       "      <td>Ellie</td>\n",
       "      <td></td>\n",
       "      <td>2</td>\n",
       "      <td>Daughter</td>\n",
       "      <td>NaN</td>\n",
       "      <td>Female</td>\n",
       "      <td>Child</td>\n",
       "      <td>NaN</td>\n",
       "      <td>NaN</td>\n",
       "    </tr>\n",
       "    <tr>\n",
       "      <th>8266</th>\n",
       "      <td>27</td>\n",
       "      <td>Pilgrim Drive</td>\n",
       "      <td>Sharon</td>\n",
       "      <td>Hughes</td>\n",
       "      <td>0</td>\n",
       "      <td>Daughter</td>\n",
       "      <td>NaN</td>\n",
       "      <td>Female</td>\n",
       "      <td>Child</td>\n",
       "      <td>NaN</td>\n",
       "      <td>NaN</td>\n",
       "    </tr>\n",
       "  </tbody>\n",
       "</table>\n",
       "</div>"
      ],
      "text/plain": [
       "     House Number         Street First Name Surname  Age  \\\n",
       "8263           27  Pilgrim Drive     Howard  Hughes   43   \n",
       "8264           27  Pilgrim Drive      Susan  Hughes   38   \n",
       "8265           27  Pilgrim Drive      Ellie            2   \n",
       "8266           27  Pilgrim Drive     Sharon  Hughes    0   \n",
       "\n",
       "     Relationship to Head of House Marital Status  Gender  \\\n",
       "8263                          Head        Married    Male   \n",
       "8264                          Wife        Married  Female   \n",
       "8265                      Daughter            NaN  Female   \n",
       "8266                      Daughter            NaN  Female   \n",
       "\n",
       "                     Occupation Infirmity   Religion  \n",
       "8263  Radio broadcast assistant       NaN  Christian  \n",
       "8264               Bonds trader       NaN        NaN  \n",
       "8265                      Child       NaN        NaN  \n",
       "8266                      Child       NaN        NaN  "
      ]
     },
     "execution_count": 21,
     "metadata": {},
     "output_type": "execute_result"
    }
   ],
   "source": [
    "df[(df['House Number'] == '27') & (df['Street'] == 'Pilgrim Drive')]"
   ]
  },
  {
   "cell_type": "code",
   "execution_count": 22,
   "metadata": {},
   "outputs": [],
   "source": [
    "# Same logic was applied here\n",
    "df.at[8265, 'Surname'] = 'Hughes'"
   ]
  },
  {
   "cell_type": "markdown",
   "metadata": {},
   "source": [
    "### House Number Column"
   ]
  },
  {
   "cell_type": "code",
   "execution_count": 23,
   "metadata": {},
   "outputs": [
    {
     "data": {
      "text/plain": [
       "array(['1', '2', '3', '4', '5', '6', '7', '8', '9', '10', 'Two', '11',\n",
       "       '12', '13', '14', '15', '16', '17', '18', '19', '20', '21', '22',\n",
       "       '23', '24', '25', '26', '27', '28', '29', '30', '31', '32', '33',\n",
       "       '34', '35', '36', '37', '38', '39', '40', '41', '42', '43', '44',\n",
       "       '45', '46', '47', '48', '49', '50', '51', '52', '53', '54', '55',\n",
       "       '56', '57', '58', '59', '60', '61', '62', '63', '64', '65', '66',\n",
       "       '67', '68', '69', '70', '71', '72', '73', '74', '75', '76', '77',\n",
       "       '78', '79', '80', '81', '82', '83', '84', '85', '86', '87', '88',\n",
       "       '89', '90', '91', '92', '93', '94', '95', '96', '97', '98', '99',\n",
       "       '100', '101', '102', '103', '104', '105', '106', '107', '108',\n",
       "       '109', '110', '111', '112', '113', '114', '115', '116', '117',\n",
       "       '118', '119', '120', '121', '122', '123', '124', '125', '126',\n",
       "       '127', '128', '129', '130', '131', '132', '133', '134', '135',\n",
       "       '136', '137', '138', '139', '140', '141', '142', '143', '144',\n",
       "       '145', '146', '147', '148', '149', '150', '151', '152', '153',\n",
       "       '154', '155', '156', '157', '158', '159', '160', '161', '162',\n",
       "       '163', '164', '165', '166', '167', '168', '169', '170', '171',\n",
       "       '172', '173', '174', '175', '176', '177', '178', '179', '180',\n",
       "       '181', '182', '183', '184', '185', '186', '187', '188', '189',\n",
       "       '190', '191', '192', '193', '194', '195', '196', '197', '198',\n",
       "       '199', '200', '201', '202', '203', '204', '205', '206', '207',\n",
       "       '208', '209', '210', '211', '212', '213', '214', '215', '216',\n",
       "       '217', '218', '219', '220', '221', '222', '223', '224', '225',\n",
       "       '226', '227', '228', '229', '230', '231', '232', '233', '234',\n",
       "       '235', '236', '237', '238', '239', '240', '241', '242', '243',\n",
       "       '244'], dtype=object)"
      ]
     },
     "execution_count": 23,
     "metadata": {},
     "output_type": "execute_result"
    }
   ],
   "source": [
    "df['House Number'].unique()"
   ]
  },
  {
   "cell_type": "code",
   "execution_count": null,
   "metadata": {},
   "outputs": [],
   "source": [
    "'''\n",
    "Problems:\n",
    "- One entry with letters\n",
    "'''"
   ]
  },
  {
   "cell_type": "code",
   "execution_count": 25,
   "metadata": {},
   "outputs": [
    {
     "data": {
      "text/html": [
       "<div>\n",
       "<style scoped>\n",
       "    .dataframe tbody tr th:only-of-type {\n",
       "        vertical-align: middle;\n",
       "    }\n",
       "\n",
       "    .dataframe tbody tr th {\n",
       "        vertical-align: top;\n",
       "    }\n",
       "\n",
       "    .dataframe thead th {\n",
       "        text-align: right;\n",
       "    }\n",
       "</style>\n",
       "<table border=\"1\" class=\"dataframe\">\n",
       "  <thead>\n",
       "    <tr style=\"text-align: right;\">\n",
       "      <th></th>\n",
       "      <th>House Number</th>\n",
       "      <th>Street</th>\n",
       "      <th>First Name</th>\n",
       "      <th>Surname</th>\n",
       "      <th>Age</th>\n",
       "      <th>Relationship to Head of House</th>\n",
       "      <th>Marital Status</th>\n",
       "      <th>Gender</th>\n",
       "      <th>Occupation</th>\n",
       "      <th>Infirmity</th>\n",
       "      <th>Religion</th>\n",
       "    </tr>\n",
       "  </thead>\n",
       "  <tbody>\n",
       "    <tr>\n",
       "      <th>42</th>\n",
       "      <td>Two</td>\n",
       "      <td>Fish Lane</td>\n",
       "      <td>Gregory</td>\n",
       "      <td>Dixon</td>\n",
       "      <td>75</td>\n",
       "      <td>Head</td>\n",
       "      <td>Widowed</td>\n",
       "      <td>Male</td>\n",
       "      <td>Retired Barrister</td>\n",
       "      <td>NaN</td>\n",
       "      <td>Christian</td>\n",
       "    </tr>\n",
       "  </tbody>\n",
       "</table>\n",
       "</div>"
      ],
      "text/plain": [
       "   House Number     Street First Name Surname  Age  \\\n",
       "42          Two  Fish Lane    Gregory   Dixon   75   \n",
       "\n",
       "   Relationship to Head of House Marital Status Gender         Occupation  \\\n",
       "42                          Head        Widowed   Male  Retired Barrister   \n",
       "\n",
       "   Infirmity   Religion  \n",
       "42       NaN  Christian  "
      ]
     },
     "execution_count": 25,
     "metadata": {},
     "output_type": "execute_result"
    }
   ],
   "source": [
    "# Find the row\n",
    "df[df['House Number'] == 'Two']"
   ]
  },
  {
   "cell_type": "code",
   "execution_count": 26,
   "metadata": {},
   "outputs": [],
   "source": [
    "# Replace it with the numeric value\n",
    "df.at[42, 'House Number'] = '2'"
   ]
  },
  {
   "cell_type": "markdown",
   "metadata": {},
   "source": [
    "### Occupation column"
   ]
  },
  {
   "cell_type": "code",
   "execution_count": 27,
   "metadata": {},
   "outputs": [
    {
     "data": {
      "text/html": [
       "<div>\n",
       "<style scoped>\n",
       "    .dataframe tbody tr th:only-of-type {\n",
       "        vertical-align: middle;\n",
       "    }\n",
       "\n",
       "    .dataframe tbody tr th {\n",
       "        vertical-align: top;\n",
       "    }\n",
       "\n",
       "    .dataframe thead th {\n",
       "        text-align: right;\n",
       "    }\n",
       "</style>\n",
       "<table border=\"1\" class=\"dataframe\">\n",
       "  <thead>\n",
       "    <tr style=\"text-align: right;\">\n",
       "      <th></th>\n",
       "      <th>House Number</th>\n",
       "      <th>Street</th>\n",
       "      <th>First Name</th>\n",
       "      <th>Surname</th>\n",
       "      <th>Age</th>\n",
       "      <th>Relationship to Head of House</th>\n",
       "      <th>Marital Status</th>\n",
       "      <th>Gender</th>\n",
       "      <th>Occupation</th>\n",
       "      <th>Infirmity</th>\n",
       "      <th>Religion</th>\n",
       "    </tr>\n",
       "  </thead>\n",
       "  <tbody>\n",
       "    <tr>\n",
       "      <th>5688</th>\n",
       "      <td>6</td>\n",
       "      <td>Elyarch Drive</td>\n",
       "      <td>Toby</td>\n",
       "      <td>Richardson</td>\n",
       "      <td>42</td>\n",
       "      <td>Lodger</td>\n",
       "      <td>Single</td>\n",
       "      <td>Male</td>\n",
       "      <td></td>\n",
       "      <td>NaN</td>\n",
       "      <td>Christian</td>\n",
       "    </tr>\n",
       "  </tbody>\n",
       "</table>\n",
       "</div>"
      ],
      "text/plain": [
       "     House Number         Street First Name     Surname  Age  \\\n",
       "5688            6  Elyarch Drive       Toby  Richardson   42   \n",
       "\n",
       "     Relationship to Head of House Marital Status Gender Occupation Infirmity  \\\n",
       "5688                        Lodger         Single   Male                  NaN   \n",
       "\n",
       "       Religion  \n",
       "5688  Christian  "
      ]
     },
     "execution_count": 27,
     "metadata": {},
     "output_type": "execute_result"
    }
   ],
   "source": [
    "df[df['Occupation'] == ' ']"
   ]
  },
  {
   "cell_type": "code",
   "execution_count": 28,
   "metadata": {},
   "outputs": [],
   "source": [
    "df.at[5688, 'Occupation'] = 'Unknown'"
   ]
  },
  {
   "cell_type": "code",
   "execution_count": 29,
   "metadata": {},
   "outputs": [
    {
     "data": {
      "text/html": [
       "<div>\n",
       "<style scoped>\n",
       "    .dataframe tbody tr th:only-of-type {\n",
       "        vertical-align: middle;\n",
       "    }\n",
       "\n",
       "    .dataframe tbody tr th {\n",
       "        vertical-align: top;\n",
       "    }\n",
       "\n",
       "    .dataframe thead th {\n",
       "        text-align: right;\n",
       "    }\n",
       "</style>\n",
       "<table border=\"1\" class=\"dataframe\">\n",
       "  <thead>\n",
       "    <tr style=\"text-align: right;\">\n",
       "      <th></th>\n",
       "      <th>House Number</th>\n",
       "      <th>Street</th>\n",
       "      <th>First Name</th>\n",
       "      <th>Surname</th>\n",
       "      <th>Age</th>\n",
       "      <th>Relationship to Head of House</th>\n",
       "      <th>Marital Status</th>\n",
       "      <th>Gender</th>\n",
       "      <th>Occupation</th>\n",
       "      <th>Infirmity</th>\n",
       "      <th>Religion</th>\n",
       "    </tr>\n",
       "  </thead>\n",
       "  <tbody>\n",
       "    <tr>\n",
       "      <th>5688</th>\n",
       "      <td>6</td>\n",
       "      <td>Elyarch Drive</td>\n",
       "      <td>Toby</td>\n",
       "      <td>Richardson</td>\n",
       "      <td>42</td>\n",
       "      <td>Lodger</td>\n",
       "      <td>Single</td>\n",
       "      <td>Male</td>\n",
       "      <td>Unknown</td>\n",
       "      <td>NaN</td>\n",
       "      <td>Christian</td>\n",
       "    </tr>\n",
       "  </tbody>\n",
       "</table>\n",
       "</div>"
      ],
      "text/plain": [
       "     House Number         Street First Name     Surname  Age  \\\n",
       "5688            6  Elyarch Drive       Toby  Richardson   42   \n",
       "\n",
       "     Relationship to Head of House Marital Status Gender Occupation Infirmity  \\\n",
       "5688                        Lodger         Single   Male    Unknown       NaN   \n",
       "\n",
       "       Religion  \n",
       "5688  Christian  "
      ]
     },
     "execution_count": 29,
     "metadata": {},
     "output_type": "execute_result"
    }
   ],
   "source": [
    "# One blank entry replaced with Unknown\n",
    "df[df['Occupation'] == 'Unknown']"
   ]
  },
  {
   "cell_type": "markdown",
   "metadata": {},
   "source": [
    "### Marital Status Column"
   ]
  },
  {
   "cell_type": "code",
   "execution_count": 30,
   "metadata": {},
   "outputs": [
    {
     "data": {
      "text/plain": [
       "array(['Married', nan, 'Widowed', 'Single', 'Divorced', 'S', 'D', 'M',\n",
       "       'W'], dtype=object)"
      ]
     },
     "execution_count": 30,
     "metadata": {},
     "output_type": "execute_result"
    }
   ],
   "source": [
    "df['Marital Status'].unique()"
   ]
  },
  {
   "cell_type": "code",
   "execution_count": null,
   "metadata": {},
   "outputs": [],
   "source": [
    "'''\n",
    "Problems:\n",
    "-Values are not standardized\n",
    "-nan values\n",
    "'''"
   ]
  },
  {
   "cell_type": "code",
   "execution_count": 32,
   "metadata": {},
   "outputs": [
    {
     "data": {
      "text/html": [
       "<div>\n",
       "<style scoped>\n",
       "    .dataframe tbody tr th:only-of-type {\n",
       "        vertical-align: middle;\n",
       "    }\n",
       "\n",
       "    .dataframe tbody tr th {\n",
       "        vertical-align: top;\n",
       "    }\n",
       "\n",
       "    .dataframe thead th {\n",
       "        text-align: right;\n",
       "    }\n",
       "</style>\n",
       "<table border=\"1\" class=\"dataframe\">\n",
       "  <thead>\n",
       "    <tr style=\"text-align: right;\">\n",
       "      <th></th>\n",
       "      <th>House Number</th>\n",
       "      <th>Street</th>\n",
       "      <th>First Name</th>\n",
       "      <th>Surname</th>\n",
       "      <th>Age</th>\n",
       "      <th>Relationship to Head of House</th>\n",
       "      <th>Marital Status</th>\n",
       "      <th>Gender</th>\n",
       "      <th>Occupation</th>\n",
       "      <th>Infirmity</th>\n",
       "      <th>Religion</th>\n",
       "    </tr>\n",
       "  </thead>\n",
       "  <tbody>\n",
       "  </tbody>\n",
       "</table>\n",
       "</div>"
      ],
      "text/plain": [
       "Empty DataFrame\n",
       "Columns: [House Number, Street, First Name, Surname, Age, Relationship to Head of House, Marital Status, Gender, Occupation, Infirmity, Religion]\n",
       "Index: []"
      ]
     },
     "execution_count": 32,
     "metadata": {},
     "output_type": "execute_result"
    }
   ],
   "source": [
    "# Checking if NaN values are present in adults\n",
    "df[(df['Age']>= 18) & (df['Marital Status'].isna())]\n"
   ]
  },
  {
   "cell_type": "code",
   "execution_count": null,
   "metadata": {},
   "outputs": [],
   "source": [
    "'''No missing values in adults. Which leaves people under 18. Impute with N/A'''"
   ]
  },
  {
   "cell_type": "code",
   "execution_count": 34,
   "metadata": {},
   "outputs": [],
   "source": [
    "# Dictionary for mapping\n",
    "marital_mapping = {\n",
    "    'Married': 'Married',\n",
    "    'M': 'Married', \n",
    "    'Widowed': 'Widowed',\n",
    "    'W': 'Widowed',\n",
    "    'Single': 'Single',\n",
    "    'S': 'Single',\n",
    "    'Divorced': 'Divorced',\n",
    "    'D': 'Divorced',\n",
    "}\n",
    "\n",
    "df['Marital Status'] = df['Marital Status'].map(marital_mapping)\n",
    "df['Marital Status'] = df['Marital Status'].fillna('N/A')"
   ]
  },
  {
   "cell_type": "code",
   "execution_count": 35,
   "metadata": {},
   "outputs": [
    {
     "data": {
      "text/plain": [
       "array(['Married', 'N/A', 'Widowed', 'Single', 'Divorced'], dtype=object)"
      ]
     },
     "execution_count": 35,
     "metadata": {},
     "output_type": "execute_result"
    }
   ],
   "source": [
    "df['Marital Status'].unique()"
   ]
  },
  {
   "cell_type": "code",
   "execution_count": 36,
   "metadata": {},
   "outputs": [
    {
     "data": {
      "text/html": [
       "<div>\n",
       "<style scoped>\n",
       "    .dataframe tbody tr th:only-of-type {\n",
       "        vertical-align: middle;\n",
       "    }\n",
       "\n",
       "    .dataframe tbody tr th {\n",
       "        vertical-align: top;\n",
       "    }\n",
       "\n",
       "    .dataframe thead th {\n",
       "        text-align: right;\n",
       "    }\n",
       "</style>\n",
       "<table border=\"1\" class=\"dataframe\">\n",
       "  <thead>\n",
       "    <tr style=\"text-align: right;\">\n",
       "      <th></th>\n",
       "      <th>House Number</th>\n",
       "      <th>Street</th>\n",
       "      <th>First Name</th>\n",
       "      <th>Surname</th>\n",
       "      <th>Age</th>\n",
       "      <th>Relationship to Head of House</th>\n",
       "      <th>Marital Status</th>\n",
       "      <th>Gender</th>\n",
       "      <th>Occupation</th>\n",
       "      <th>Infirmity</th>\n",
       "      <th>Religion</th>\n",
       "    </tr>\n",
       "  </thead>\n",
       "  <tbody>\n",
       "    <tr>\n",
       "      <th>1267</th>\n",
       "      <td>12</td>\n",
       "      <td>Outer Avenue</td>\n",
       "      <td>Laura</td>\n",
       "      <td>Thompson</td>\n",
       "      <td>17</td>\n",
       "      <td>Head</td>\n",
       "      <td>Divorced</td>\n",
       "      <td>Female</td>\n",
       "      <td>Student</td>\n",
       "      <td>NaN</td>\n",
       "      <td>NaN</td>\n",
       "    </tr>\n",
       "    <tr>\n",
       "      <th>8349</th>\n",
       "      <td>37</td>\n",
       "      <td>Badger Shoal</td>\n",
       "      <td>Amber</td>\n",
       "      <td>Ball</td>\n",
       "      <td>17</td>\n",
       "      <td>Head</td>\n",
       "      <td>Single</td>\n",
       "      <td>Female</td>\n",
       "      <td>Student</td>\n",
       "      <td>NaN</td>\n",
       "      <td>NaN</td>\n",
       "    </tr>\n",
       "  </tbody>\n",
       "</table>\n",
       "</div>"
      ],
      "text/plain": [
       "     House Number        Street First Name   Surname  Age  \\\n",
       "1267           12  Outer Avenue      Laura  Thompson   17   \n",
       "8349           37  Badger Shoal      Amber      Ball   17   \n",
       "\n",
       "     Relationship to Head of House Marital Status  Gender Occupation  \\\n",
       "1267                          Head       Divorced  Female    Student   \n",
       "8349                          Head         Single  Female    Student   \n",
       "\n",
       "     Infirmity Religion  \n",
       "1267       NaN      NaN  \n",
       "8349       NaN      NaN  "
      ]
     },
     "execution_count": 36,
     "metadata": {},
     "output_type": "execute_result"
    }
   ],
   "source": [
    "# Checking for the possibility of finding entries \n",
    "df[(df['Age'] < 18) & (df['Marital Status'] != 'N/A')]"
   ]
  },
  {
   "cell_type": "code",
   "execution_count": null,
   "metadata": {},
   "outputs": [],
   "source": [
    "'''Two rows where the person is less than 18, but have a Marital Status and both are heads. The easiest fix is to update the ages to 18\n",
    "   To fit the description given'''"
   ]
  },
  {
   "cell_type": "code",
   "execution_count": 38,
   "metadata": {},
   "outputs": [],
   "source": [
    "df.at[1267, 'Age'] = 18\n",
    "df.at[8349, 'Age'] = 18"
   ]
  },
  {
   "cell_type": "code",
   "execution_count": 39,
   "metadata": {},
   "outputs": [
    {
     "data": {
      "text/plain": [
       "array(['Married', 'N/A', 'Widowed', 'Single', 'Divorced'], dtype=object)"
      ]
     },
     "execution_count": 39,
     "metadata": {},
     "output_type": "execute_result"
    }
   ],
   "source": [
    "df['Marital Status'].unique()"
   ]
  },
  {
   "cell_type": "markdown",
   "metadata": {},
   "source": [
    "### Relationship to head of House Column"
   ]
  },
  {
   "cell_type": "code",
   "execution_count": 40,
   "metadata": {},
   "outputs": [
    {
     "data": {
      "text/plain": [
       "array(['Head', 'Husband', 'Son', 'Daughter', 'Visitor', 'Wife', 'Cousin',\n",
       "       nan, 'Partner', 'Granddaughter', 'Lodger', 'Nephew', 'Sibling',\n",
       "       'Neice', 'Grandson', 'Adopted Son', 'Adopted Daughter', 'Step-Son',\n",
       "       'Step-Daughter', 'Adopted Grandson', 'Adopted Granddaughter'],\n",
       "      dtype=object)"
      ]
     },
     "execution_count": 40,
     "metadata": {},
     "output_type": "execute_result"
    }
   ],
   "source": [
    "df['Relationship to Head of House'].unique()"
   ]
  },
  {
   "cell_type": "code",
   "execution_count": null,
   "metadata": {},
   "outputs": [],
   "source": [
    "'''\n",
    "This was the most complicated column to clean. \n",
    "-Lots of Nan Values\n",
    "-Imputing requires a lot of guess work. Features like Marital Status, Age, Surname and Gender helped making an educated guess\n",
    "-Some visualisations were used to have a better idea on how to tackle the column\n",
    "'''"
   ]
  },
  {
   "cell_type": "code",
   "execution_count": 42,
   "metadata": {},
   "outputs": [
    {
     "name": "stdout",
     "output_type": "stream",
     "text": [
      "Households with no Head: 0\n",
      "Households with multiple Heads: 10\n"
     ]
    }
   ],
   "source": [
    "head_count = df.groupby(['House Number', 'Street'])['Relationship to Head of House'].apply(lambda x: (x == 'Head').sum())\n",
    "no_head_households = head_count[head_count == 0].index\n",
    "multiple_head_households = head_count[head_count > 1].index\n",
    "\n",
    "print(f\"Households with no Head: {len(no_head_households)}\")\n",
    "print(f\"Households with multiple Heads: {len(multiple_head_households)}\")"
   ]
  },
  {
   "cell_type": "code",
   "execution_count": null,
   "metadata": {},
   "outputs": [],
   "source": [
    "'''\n",
    "Every household has a head, and 10 of them have more than one. Decided to not change anything in those houses as they are very few\n",
    "and won't have an impact\n",
    "'''"
   ]
  },
  {
   "cell_type": "code",
   "execution_count": 44,
   "metadata": {},
   "outputs": [],
   "source": [
    "head_count = pd.DataFrame(head_count)"
   ]
  },
  {
   "cell_type": "code",
   "execution_count": 45,
   "metadata": {},
   "outputs": [
    {
     "data": {
      "text/html": [
       "<div>\n",
       "<style scoped>\n",
       "    .dataframe tbody tr th:only-of-type {\n",
       "        vertical-align: middle;\n",
       "    }\n",
       "\n",
       "    .dataframe tbody tr th {\n",
       "        vertical-align: top;\n",
       "    }\n",
       "\n",
       "    .dataframe thead th {\n",
       "        text-align: right;\n",
       "    }\n",
       "</style>\n",
       "<table border=\"1\" class=\"dataframe\">\n",
       "  <thead>\n",
       "    <tr style=\"text-align: right;\">\n",
       "      <th></th>\n",
       "      <th></th>\n",
       "      <th>Relationship to Head of House</th>\n",
       "    </tr>\n",
       "    <tr>\n",
       "      <th>House Number</th>\n",
       "      <th>Street</th>\n",
       "      <th></th>\n",
       "    </tr>\n",
       "  </thead>\n",
       "  <tbody>\n",
       "    <tr>\n",
       "      <th>1</th>\n",
       "      <th>Haymarket Street</th>\n",
       "      <td>2</td>\n",
       "    </tr>\n",
       "    <tr>\n",
       "      <th>10</th>\n",
       "      <th>Haymarket Street</th>\n",
       "      <td>2</td>\n",
       "    </tr>\n",
       "    <tr>\n",
       "      <th>2</th>\n",
       "      <th>Haymarket Street</th>\n",
       "      <td>2</td>\n",
       "    </tr>\n",
       "    <tr>\n",
       "      <th>3</th>\n",
       "      <th>Haymarket Street</th>\n",
       "      <td>2</td>\n",
       "    </tr>\n",
       "    <tr>\n",
       "      <th>4</th>\n",
       "      <th>Haymarket Street</th>\n",
       "      <td>2</td>\n",
       "    </tr>\n",
       "    <tr>\n",
       "      <th>5</th>\n",
       "      <th>Haymarket Street</th>\n",
       "      <td>2</td>\n",
       "    </tr>\n",
       "    <tr>\n",
       "      <th>6</th>\n",
       "      <th>Haymarket Street</th>\n",
       "      <td>2</td>\n",
       "    </tr>\n",
       "    <tr>\n",
       "      <th>7</th>\n",
       "      <th>Haymarket Street</th>\n",
       "      <td>2</td>\n",
       "    </tr>\n",
       "    <tr>\n",
       "      <th>8</th>\n",
       "      <th>Haymarket Street</th>\n",
       "      <td>2</td>\n",
       "    </tr>\n",
       "    <tr>\n",
       "      <th>9</th>\n",
       "      <th>Haymarket Street</th>\n",
       "      <td>2</td>\n",
       "    </tr>\n",
       "  </tbody>\n",
       "</table>\n",
       "</div>"
      ],
      "text/plain": [
       "                               Relationship to Head of House\n",
       "House Number Street                                         \n",
       "1            Haymarket Street                              2\n",
       "10           Haymarket Street                              2\n",
       "2            Haymarket Street                              2\n",
       "3            Haymarket Street                              2\n",
       "4            Haymarket Street                              2\n",
       "5            Haymarket Street                              2\n",
       "6            Haymarket Street                              2\n",
       "7            Haymarket Street                              2\n",
       "8            Haymarket Street                              2\n",
       "9            Haymarket Street                              2"
      ]
     },
     "execution_count": 45,
     "metadata": {},
     "output_type": "execute_result"
    }
   ],
   "source": [
    "# The 10 Houses have 2 heads\n",
    "head_count[head_count['Relationship to Head of House'] != 1]"
   ]
  },
  {
   "cell_type": "code",
   "execution_count": 46,
   "metadata": {},
   "outputs": [
    {
     "data": {
      "text/plain": [
       "Relationship to Head of House\n",
       "Head                     3342\n",
       "Son                      1618\n",
       "Daughter                 1571\n",
       "Husband                   949\n",
       "Lodger                    421\n",
       "Wife                      333\n",
       "Partner                   242\n",
       "Granddaughter              84\n",
       "Grandson                   79\n",
       "Sibling                    51\n",
       "Cousin                     32\n",
       "Visitor                    28\n",
       "Step-Daughter              18\n",
       "Step-Son                   15\n",
       "Adopted Son                14\n",
       "Adopted Daughter           13\n",
       "Nephew                      9\n",
       "Neice                       7\n",
       "Adopted Grandson            2\n",
       "Adopted Granddaughter       1\n",
       "Name: count, dtype: int64"
      ]
     },
     "execution_count": 46,
     "metadata": {},
     "output_type": "execute_result"
    }
   ],
   "source": [
    "df['Relationship to Head of House'].value_counts()"
   ]
  },
  {
   "cell_type": "code",
   "execution_count": 47,
   "metadata": {},
   "outputs": [
    {
     "name": "stderr",
     "output_type": "stream",
     "text": [
      "C:\\Users\\seif\\AppData\\Local\\Temp\\ipykernel_19028\\1060193660.py:8: SettingWithCopyWarning: \n",
      "A value is trying to be set on a copy of a slice from a DataFrame.\n",
      "Try using .loc[row_indexer,col_indexer] = value instead\n",
      "\n",
      "See the caveats in the documentation: https://pandas.pydata.org/pandas-docs/stable/user_guide/indexing.html#returning-a-view-versus-a-copy\n",
      "  missing_df['Age Group'] = pd.cut(missing_df['Age'], bins=bins, labels=labels, right=True)\n"
     ]
    },
    {
     "data": {
      "image/png": "[encoded data removed]",
      "text/plain": [
       "<Figure size 1000x600 with 1 Axes>"
      ]
     },
     "metadata": {},
     "output_type": "display_data"
    },
    {
     "name": "stdout",
     "output_type": "stream",
     "text": [
      "Missing Relationship Counts by Age Group:\n",
      "Age Group\n",
      "0-17       5\n",
      "18-24    231\n",
      "25-34    125\n",
      "35-44    108\n",
      "45-54    123\n",
      "55-64    122\n",
      "65-74      0\n",
      "75+        0\n",
      "Name: count, dtype: int64\n"
     ]
    }
   ],
   "source": [
    "# Checking which age group with the most missing values\n",
    "# Filter rows with missing Relationship to Head of House\n",
    "missing_df = df[df['Relationship to Head of House'].isna()]\n",
    "\n",
    "# Define age groups (customize bins as needed)\n",
    "bins = [0, 17, 24, 34, 44, 54, 64, 74, float('inf')]  # 0-17 (minors), 18-34, 35-54, 55-74, 75+\n",
    "labels = ['0-17','18-24', '25-34', '35-44', '45-54', '55-64' , '65-74', '75+']\n",
    "missing_df['Age Group'] = pd.cut(missing_df['Age'], bins=bins, labels=labels, right=True)\n",
    "\n",
    "# Count missing values per age group\n",
    "age_group_counts = missing_df['Age Group'].value_counts().reindex(labels, fill_value=0)\n",
    "\n",
    "# Plot\n",
    "plt.figure(figsize=(10, 6))\n",
    "sns.barplot(x=age_group_counts.index, y=age_group_counts.values)\n",
    "plt.xlabel('Age Group')\n",
    "plt.ylabel('Count of Missing Relationships')\n",
    "plt.title('Count of Missing Relationship to Head of House by Age Group')\n",
    "plt.xticks(rotation=45)\n",
    "plt.tight_layout()\n",
    "\n",
    "# Show the plot\n",
    "plt.show()\n",
    "\n",
    "# Print the counts for reference\n",
    "print(\"Missing Relationship Counts by Age Group:\")\n",
    "print(age_group_counts)"
   ]
  },
  {
   "cell_type": "code",
   "execution_count": 48,
   "metadata": {},
   "outputs": [
    {
     "data": {
      "text/plain": [
       "Gender\n",
       "Female    358\n",
       "Male      356\n",
       "Name: count, dtype: int64"
      ]
     },
     "execution_count": 48,
     "metadata": {},
     "output_type": "execute_result"
    }
   ],
   "source": [
    "# Checking if one of the genders is more likely to have a missing value\n",
    "missing_df['Gender'].value_counts()"
   ]
  },
  {
   "cell_type": "code",
   "execution_count": null,
   "metadata": {},
   "outputs": [],
   "source": [
    "'''\n",
    "From the analysis of the column,  the most common types of relation (Excluding head) are: Son, Daughter, Husband, Lodger and Wife\n",
    "The age group with the biggest number of missing values is 18-24 (meaning possibly Son, Daughter or Lodger)\n",
    "\n",
    "Two ways we can handle this: Impute based on rules or train a classifier model, like Random Forest to predict the relation\n",
    "\n",
    "In the end, i opted in using rules to impute, for two reasons, One, the imputation using rules is explainable, because We define the rules. Second,\n",
    "The random forest classifier, to effectively predict, needs to be feeded Households to learn the relation, and all memebers of the house must not have \n",
    "a null value and with limited data not gonna work properly\n",
    "'''"
   ]
  },
  {
   "cell_type": "code",
   "execution_count": 50,
   "metadata": {},
   "outputs": [],
   "source": [
    "# Function to impute the relationship based on rules\n",
    "def impute_relationship(row):\n",
    "    if pd.isna(row['Relationship to Head of House']):\n",
    "        # Extract the useful features from the row\n",
    "        age = row['Age']\n",
    "        gender = row['Gender']\n",
    "        marital_status = row['Marital Status']\n",
    "        surname = row['Surname']\n",
    "        household = df[(df['House Number'] == row['House Number']) & (df['Street'] == row['Street'])]\n",
    "        \n",
    "        # Check for multiple Heads\n",
    "        head_count = (household['Relationship to Head of House'] == 'Head').sum()\n",
    "        if head_count > 1:\n",
    "            return 'Lodger'  # Assign 'Lodger' if more than one Head\n",
    "        \n",
    "        # Get Head info for remaining cases\n",
    "        head = household[household['Relationship to Head of House'] == 'Head'].iloc[0]\n",
    "        head_surname = head['Surname']\n",
    "        age_diff = head['Age'] - age\n",
    "        \n",
    "        # Age-group rules for single-Head households\n",
    "        if age <= 17:\n",
    "            if age_diff >= 40:\n",
    "                return 'Grandson' if gender == 'Male' else 'Granddaughter'\n",
    "            else:\n",
    "                return 'Son' if gender == 'Male' else 'Daughter'\n",
    "        elif 18 <= age <= 24:\n",
    "            if surname == head_surname:\n",
    "                if age_diff > 18:\n",
    "                    return 'Son' if gender == 'Male' else 'Daughter'\n",
    "                elif marital_status == 'Married':\n",
    "                    return 'Husband' if gender == 'Male' else 'Wife'\n",
    "                else:\n",
    "                    return 'Sibling'\n",
    "            else:\n",
    "                return 'Lodger' if marital_status == 'Single' else 'Partner'\n",
    "        elif 25 <= age <= 34:\n",
    "            if surname == head_surname and marital_status == 'Married':\n",
    "                return 'Husband' if gender == 'Male' else 'Wife'\n",
    "            elif surname == head_surname:\n",
    "                return 'Sibling'\n",
    "            else:\n",
    "                return 'Partner' if marital_status in ['Married', 'Single'] else 'Lodger'\n",
    "        elif 35 <= age <= 54:\n",
    "            if surname == head_surname and marital_status == 'Married':\n",
    "                return 'Husband' if gender == 'Male' else 'Wife'\n",
    "            elif surname == head_surname:\n",
    "                return 'Sibling'\n",
    "            else:\n",
    "                return 'Lodger'\n",
    "        elif 55 <= age <= 64:\n",
    "            if surname == head_surname:\n",
    "                return 'Sibling'\n",
    "            else:\n",
    "                return 'Visitor' if age_diff > 20 else 'Lodger'\n",
    "        return 'Unknown'\n",
    "    return row['Relationship to Head of House']\n"
   ]
  },
  {
   "cell_type": "code",
   "execution_count": 51,
   "metadata": {},
   "outputs": [
    {
     "data": {
      "text/html": [
       "<div>\n",
       "<style scoped>\n",
       "    .dataframe tbody tr th:only-of-type {\n",
       "        vertical-align: middle;\n",
       "    }\n",
       "\n",
       "    .dataframe tbody tr th {\n",
       "        vertical-align: top;\n",
       "    }\n",
       "\n",
       "    .dataframe thead th {\n",
       "        text-align: right;\n",
       "    }\n",
       "</style>\n",
       "<table border=\"1\" class=\"dataframe\">\n",
       "  <thead>\n",
       "    <tr style=\"text-align: right;\">\n",
       "      <th></th>\n",
       "      <th>Relationship</th>\n",
       "      <th>Count</th>\n",
       "      <th>Stage</th>\n",
       "    </tr>\n",
       "  </thead>\n",
       "  <tbody>\n",
       "    <tr>\n",
       "      <th>0</th>\n",
       "      <td>Head</td>\n",
       "      <td>3342</td>\n",
       "      <td>Before</td>\n",
       "    </tr>\n",
       "    <tr>\n",
       "      <th>1</th>\n",
       "      <td>Son</td>\n",
       "      <td>1618</td>\n",
       "      <td>Before</td>\n",
       "    </tr>\n",
       "    <tr>\n",
       "      <th>2</th>\n",
       "      <td>Daughter</td>\n",
       "      <td>1571</td>\n",
       "      <td>Before</td>\n",
       "    </tr>\n",
       "    <tr>\n",
       "      <th>3</th>\n",
       "      <td>Husband</td>\n",
       "      <td>949</td>\n",
       "      <td>Before</td>\n",
       "    </tr>\n",
       "    <tr>\n",
       "      <th>4</th>\n",
       "      <td>NaN</td>\n",
       "      <td>714</td>\n",
       "      <td>Before</td>\n",
       "    </tr>\n",
       "    <tr>\n",
       "      <th>5</th>\n",
       "      <td>Lodger</td>\n",
       "      <td>421</td>\n",
       "      <td>Before</td>\n",
       "    </tr>\n",
       "    <tr>\n",
       "      <th>6</th>\n",
       "      <td>Wife</td>\n",
       "      <td>333</td>\n",
       "      <td>Before</td>\n",
       "    </tr>\n",
       "    <tr>\n",
       "      <th>7</th>\n",
       "      <td>Partner</td>\n",
       "      <td>242</td>\n",
       "      <td>Before</td>\n",
       "    </tr>\n",
       "    <tr>\n",
       "      <th>8</th>\n",
       "      <td>Granddaughter</td>\n",
       "      <td>84</td>\n",
       "      <td>Before</td>\n",
       "    </tr>\n",
       "    <tr>\n",
       "      <th>9</th>\n",
       "      <td>Grandson</td>\n",
       "      <td>79</td>\n",
       "      <td>Before</td>\n",
       "    </tr>\n",
       "    <tr>\n",
       "      <th>10</th>\n",
       "      <td>Sibling</td>\n",
       "      <td>51</td>\n",
       "      <td>Before</td>\n",
       "    </tr>\n",
       "    <tr>\n",
       "      <th>11</th>\n",
       "      <td>Cousin</td>\n",
       "      <td>32</td>\n",
       "      <td>Before</td>\n",
       "    </tr>\n",
       "    <tr>\n",
       "      <th>12</th>\n",
       "      <td>Visitor</td>\n",
       "      <td>28</td>\n",
       "      <td>Before</td>\n",
       "    </tr>\n",
       "    <tr>\n",
       "      <th>13</th>\n",
       "      <td>Step-Daughter</td>\n",
       "      <td>18</td>\n",
       "      <td>Before</td>\n",
       "    </tr>\n",
       "    <tr>\n",
       "      <th>14</th>\n",
       "      <td>Step-Son</td>\n",
       "      <td>15</td>\n",
       "      <td>Before</td>\n",
       "    </tr>\n",
       "    <tr>\n",
       "      <th>15</th>\n",
       "      <td>Adopted Son</td>\n",
       "      <td>14</td>\n",
       "      <td>Before</td>\n",
       "    </tr>\n",
       "    <tr>\n",
       "      <th>16</th>\n",
       "      <td>Adopted Daughter</td>\n",
       "      <td>13</td>\n",
       "      <td>Before</td>\n",
       "    </tr>\n",
       "    <tr>\n",
       "      <th>17</th>\n",
       "      <td>Nephew</td>\n",
       "      <td>9</td>\n",
       "      <td>Before</td>\n",
       "    </tr>\n",
       "    <tr>\n",
       "      <th>18</th>\n",
       "      <td>Neice</td>\n",
       "      <td>7</td>\n",
       "      <td>Before</td>\n",
       "    </tr>\n",
       "    <tr>\n",
       "      <th>19</th>\n",
       "      <td>Adopted Grandson</td>\n",
       "      <td>2</td>\n",
       "      <td>Before</td>\n",
       "    </tr>\n",
       "    <tr>\n",
       "      <th>20</th>\n",
       "      <td>Adopted Granddaughter</td>\n",
       "      <td>1</td>\n",
       "      <td>Before</td>\n",
       "    </tr>\n",
       "  </tbody>\n",
       "</table>\n",
       "</div>"
      ],
      "text/plain": [
       "             Relationship  Count   Stage\n",
       "0                    Head   3342  Before\n",
       "1                     Son   1618  Before\n",
       "2                Daughter   1571  Before\n",
       "3                 Husband    949  Before\n",
       "4                     NaN    714  Before\n",
       "5                  Lodger    421  Before\n",
       "6                    Wife    333  Before\n",
       "7                 Partner    242  Before\n",
       "8           Granddaughter     84  Before\n",
       "9                Grandson     79  Before\n",
       "10                Sibling     51  Before\n",
       "11                 Cousin     32  Before\n",
       "12                Visitor     28  Before\n",
       "13          Step-Daughter     18  Before\n",
       "14               Step-Son     15  Before\n",
       "15            Adopted Son     14  Before\n",
       "16       Adopted Daughter     13  Before\n",
       "17                 Nephew      9  Before\n",
       "18                  Neice      7  Before\n",
       "19       Adopted Grandson      2  Before\n",
       "20  Adopted Granddaughter      1  Before"
      ]
     },
     "execution_count": 51,
     "metadata": {},
     "output_type": "execute_result"
    }
   ],
   "source": [
    "#Capture counts BEFORE imputation \n",
    "before_df = df.copy()  # Copy original data before any changes\n",
    "before_counts = before_df['Relationship to Head of House'].value_counts(dropna=False)\n",
    "before_data = pd.DataFrame({\n",
    "    'Relationship': before_counts.index,\n",
    "    'Count': before_counts.values,\n",
    "    'Stage': 'Before'\n",
    "}).reset_index(drop=True)\n",
    "\n",
    "before_data"
   ]
  },
  {
   "cell_type": "code",
   "execution_count": 52,
   "metadata": {},
   "outputs": [],
   "source": [
    "fix_relation_df = df.copy()\n",
    "# Apply the imputation\n",
    "fix_relation_df['Relationship to Head of House'] = fix_relation_df.apply(impute_relationship, axis=1)"
   ]
  },
  {
   "cell_type": "code",
   "execution_count": 53,
   "metadata": {},
   "outputs": [
    {
     "data": {
      "text/html": [
       "<div>\n",
       "<style scoped>\n",
       "    .dataframe tbody tr th:only-of-type {\n",
       "        vertical-align: middle;\n",
       "    }\n",
       "\n",
       "    .dataframe tbody tr th {\n",
       "        vertical-align: top;\n",
       "    }\n",
       "\n",
       "    .dataframe thead th {\n",
       "        text-align: right;\n",
       "    }\n",
       "</style>\n",
       "<table border=\"1\" class=\"dataframe\">\n",
       "  <thead>\n",
       "    <tr style=\"text-align: right;\">\n",
       "      <th></th>\n",
       "      <th>Relationship</th>\n",
       "      <th>Count</th>\n",
       "      <th>Stage</th>\n",
       "    </tr>\n",
       "  </thead>\n",
       "  <tbody>\n",
       "    <tr>\n",
       "      <th>0</th>\n",
       "      <td>Head</td>\n",
       "      <td>3342</td>\n",
       "      <td>Before</td>\n",
       "    </tr>\n",
       "    <tr>\n",
       "      <th>1</th>\n",
       "      <td>Son</td>\n",
       "      <td>1618</td>\n",
       "      <td>Before</td>\n",
       "    </tr>\n",
       "    <tr>\n",
       "      <th>2</th>\n",
       "      <td>Daughter</td>\n",
       "      <td>1571</td>\n",
       "      <td>Before</td>\n",
       "    </tr>\n",
       "    <tr>\n",
       "      <th>3</th>\n",
       "      <td>Husband</td>\n",
       "      <td>949</td>\n",
       "      <td>Before</td>\n",
       "    </tr>\n",
       "    <tr>\n",
       "      <th>4</th>\n",
       "      <td>NaN</td>\n",
       "      <td>714</td>\n",
       "      <td>Before</td>\n",
       "    </tr>\n",
       "    <tr>\n",
       "      <th>5</th>\n",
       "      <td>Lodger</td>\n",
       "      <td>421</td>\n",
       "      <td>Before</td>\n",
       "    </tr>\n",
       "    <tr>\n",
       "      <th>6</th>\n",
       "      <td>Wife</td>\n",
       "      <td>333</td>\n",
       "      <td>Before</td>\n",
       "    </tr>\n",
       "    <tr>\n",
       "      <th>7</th>\n",
       "      <td>Partner</td>\n",
       "      <td>242</td>\n",
       "      <td>Before</td>\n",
       "    </tr>\n",
       "    <tr>\n",
       "      <th>8</th>\n",
       "      <td>Granddaughter</td>\n",
       "      <td>84</td>\n",
       "      <td>Before</td>\n",
       "    </tr>\n",
       "    <tr>\n",
       "      <th>9</th>\n",
       "      <td>Grandson</td>\n",
       "      <td>79</td>\n",
       "      <td>Before</td>\n",
       "    </tr>\n",
       "    <tr>\n",
       "      <th>10</th>\n",
       "      <td>Sibling</td>\n",
       "      <td>51</td>\n",
       "      <td>Before</td>\n",
       "    </tr>\n",
       "    <tr>\n",
       "      <th>11</th>\n",
       "      <td>Cousin</td>\n",
       "      <td>32</td>\n",
       "      <td>Before</td>\n",
       "    </tr>\n",
       "    <tr>\n",
       "      <th>12</th>\n",
       "      <td>Visitor</td>\n",
       "      <td>28</td>\n",
       "      <td>Before</td>\n",
       "    </tr>\n",
       "    <tr>\n",
       "      <th>13</th>\n",
       "      <td>Step-Daughter</td>\n",
       "      <td>18</td>\n",
       "      <td>Before</td>\n",
       "    </tr>\n",
       "    <tr>\n",
       "      <th>14</th>\n",
       "      <td>Step-Son</td>\n",
       "      <td>15</td>\n",
       "      <td>Before</td>\n",
       "    </tr>\n",
       "    <tr>\n",
       "      <th>15</th>\n",
       "      <td>Adopted Son</td>\n",
       "      <td>14</td>\n",
       "      <td>Before</td>\n",
       "    </tr>\n",
       "    <tr>\n",
       "      <th>16</th>\n",
       "      <td>Adopted Daughter</td>\n",
       "      <td>13</td>\n",
       "      <td>Before</td>\n",
       "    </tr>\n",
       "    <tr>\n",
       "      <th>17</th>\n",
       "      <td>Nephew</td>\n",
       "      <td>9</td>\n",
       "      <td>Before</td>\n",
       "    </tr>\n",
       "    <tr>\n",
       "      <th>18</th>\n",
       "      <td>Neice</td>\n",
       "      <td>7</td>\n",
       "      <td>Before</td>\n",
       "    </tr>\n",
       "    <tr>\n",
       "      <th>19</th>\n",
       "      <td>Adopted Grandson</td>\n",
       "      <td>2</td>\n",
       "      <td>Before</td>\n",
       "    </tr>\n",
       "    <tr>\n",
       "      <th>20</th>\n",
       "      <td>Adopted Granddaughter</td>\n",
       "      <td>1</td>\n",
       "      <td>Before</td>\n",
       "    </tr>\n",
       "    <tr>\n",
       "      <th>21</th>\n",
       "      <td>Head</td>\n",
       "      <td>3342</td>\n",
       "      <td>After</td>\n",
       "    </tr>\n",
       "    <tr>\n",
       "      <th>22</th>\n",
       "      <td>Son</td>\n",
       "      <td>1618</td>\n",
       "      <td>After</td>\n",
       "    </tr>\n",
       "    <tr>\n",
       "      <th>23</th>\n",
       "      <td>Daughter</td>\n",
       "      <td>1571</td>\n",
       "      <td>After</td>\n",
       "    </tr>\n",
       "    <tr>\n",
       "      <th>24</th>\n",
       "      <td>Lodger</td>\n",
       "      <td>1006</td>\n",
       "      <td>After</td>\n",
       "    </tr>\n",
       "    <tr>\n",
       "      <th>25</th>\n",
       "      <td>Husband</td>\n",
       "      <td>949</td>\n",
       "      <td>After</td>\n",
       "    </tr>\n",
       "    <tr>\n",
       "      <th>26</th>\n",
       "      <td>Partner</td>\n",
       "      <td>364</td>\n",
       "      <td>After</td>\n",
       "    </tr>\n",
       "    <tr>\n",
       "      <th>27</th>\n",
       "      <td>Wife</td>\n",
       "      <td>333</td>\n",
       "      <td>After</td>\n",
       "    </tr>\n",
       "    <tr>\n",
       "      <th>28</th>\n",
       "      <td>Granddaughter</td>\n",
       "      <td>85</td>\n",
       "      <td>After</td>\n",
       "    </tr>\n",
       "    <tr>\n",
       "      <th>29</th>\n",
       "      <td>Grandson</td>\n",
       "      <td>83</td>\n",
       "      <td>After</td>\n",
       "    </tr>\n",
       "    <tr>\n",
       "      <th>30</th>\n",
       "      <td>Sibling</td>\n",
       "      <td>53</td>\n",
       "      <td>After</td>\n",
       "    </tr>\n",
       "    <tr>\n",
       "      <th>31</th>\n",
       "      <td>Cousin</td>\n",
       "      <td>32</td>\n",
       "      <td>After</td>\n",
       "    </tr>\n",
       "    <tr>\n",
       "      <th>32</th>\n",
       "      <td>Visitor</td>\n",
       "      <td>28</td>\n",
       "      <td>After</td>\n",
       "    </tr>\n",
       "    <tr>\n",
       "      <th>33</th>\n",
       "      <td>Step-Daughter</td>\n",
       "      <td>18</td>\n",
       "      <td>After</td>\n",
       "    </tr>\n",
       "    <tr>\n",
       "      <th>34</th>\n",
       "      <td>Step-Son</td>\n",
       "      <td>15</td>\n",
       "      <td>After</td>\n",
       "    </tr>\n",
       "    <tr>\n",
       "      <th>35</th>\n",
       "      <td>Adopted Son</td>\n",
       "      <td>14</td>\n",
       "      <td>After</td>\n",
       "    </tr>\n",
       "    <tr>\n",
       "      <th>36</th>\n",
       "      <td>Adopted Daughter</td>\n",
       "      <td>13</td>\n",
       "      <td>After</td>\n",
       "    </tr>\n",
       "    <tr>\n",
       "      <th>37</th>\n",
       "      <td>Nephew</td>\n",
       "      <td>9</td>\n",
       "      <td>After</td>\n",
       "    </tr>\n",
       "    <tr>\n",
       "      <th>38</th>\n",
       "      <td>Neice</td>\n",
       "      <td>7</td>\n",
       "      <td>After</td>\n",
       "    </tr>\n",
       "    <tr>\n",
       "      <th>39</th>\n",
       "      <td>Adopted Grandson</td>\n",
       "      <td>2</td>\n",
       "      <td>After</td>\n",
       "    </tr>\n",
       "    <tr>\n",
       "      <th>40</th>\n",
       "      <td>Adopted Granddaughter</td>\n",
       "      <td>1</td>\n",
       "      <td>After</td>\n",
       "    </tr>\n",
       "  </tbody>\n",
       "</table>\n",
       "</div>"
      ],
      "text/plain": [
       "             Relationship  Count   Stage\n",
       "0                    Head   3342  Before\n",
       "1                     Son   1618  Before\n",
       "2                Daughter   1571  Before\n",
       "3                 Husband    949  Before\n",
       "4                     NaN    714  Before\n",
       "5                  Lodger    421  Before\n",
       "6                    Wife    333  Before\n",
       "7                 Partner    242  Before\n",
       "8           Granddaughter     84  Before\n",
       "9                Grandson     79  Before\n",
       "10                Sibling     51  Before\n",
       "11                 Cousin     32  Before\n",
       "12                Visitor     28  Before\n",
       "13          Step-Daughter     18  Before\n",
       "14               Step-Son     15  Before\n",
       "15            Adopted Son     14  Before\n",
       "16       Adopted Daughter     13  Before\n",
       "17                 Nephew      9  Before\n",
       "18                  Neice      7  Before\n",
       "19       Adopted Grandson      2  Before\n",
       "20  Adopted Granddaughter      1  Before\n",
       "21                   Head   3342   After\n",
       "22                    Son   1618   After\n",
       "23               Daughter   1571   After\n",
       "24                 Lodger   1006   After\n",
       "25                Husband    949   After\n",
       "26                Partner    364   After\n",
       "27                   Wife    333   After\n",
       "28          Granddaughter     85   After\n",
       "29               Grandson     83   After\n",
       "30                Sibling     53   After\n",
       "31                 Cousin     32   After\n",
       "32                Visitor     28   After\n",
       "33          Step-Daughter     18   After\n",
       "34               Step-Son     15   After\n",
       "35            Adopted Son     14   After\n",
       "36       Adopted Daughter     13   After\n",
       "37                 Nephew      9   After\n",
       "38                  Neice      7   After\n",
       "39       Adopted Grandson      2   After\n",
       "40  Adopted Granddaughter      1   After"
      ]
     },
     "execution_count": 53,
     "metadata": {},
     "output_type": "execute_result"
    }
   ],
   "source": [
    "#Capture counts AFTER imputation\n",
    "after_counts = fix_relation_df['Relationship to Head of House'].value_counts()\n",
    "after_data = pd.DataFrame({\n",
    "    'Relationship': after_counts.index,\n",
    "    'Count': after_counts.values,\n",
    "    'Stage': 'After'\n",
    "}).reset_index(drop=True)\n",
    "\n",
    "# Combine before and after data\n",
    "combined_data = pd.concat([before_data, after_data], ignore_index=True)\n",
    "\n",
    "combined_data\n"
   ]
  },
  {
   "cell_type": "code",
   "execution_count": 54,
   "metadata": {},
   "outputs": [
    {
     "data": {
      "image/png": "[encoded data removed]",
      "text/plain": [
       "<Figure size 1400x700 with 1 Axes>"
      ]
     },
     "metadata": {},
     "output_type": "display_data"
    },
    {
     "name": "stdout",
     "output_type": "stream",
     "text": [
      "Counts Before and After Imputation:\n"
     ]
    },
    {
     "data": {
      "text/html": [
       "<div>\n",
       "<style scoped>\n",
       "    .dataframe tbody tr th:only-of-type {\n",
       "        vertical-align: middle;\n",
       "    }\n",
       "\n",
       "    .dataframe tbody tr th {\n",
       "        vertical-align: top;\n",
       "    }\n",
       "\n",
       "    .dataframe thead th {\n",
       "        text-align: right;\n",
       "    }\n",
       "</style>\n",
       "<table border=\"1\" class=\"dataframe\">\n",
       "  <thead>\n",
       "    <tr style=\"text-align: right;\">\n",
       "      <th></th>\n",
       "      <th>Relationship</th>\n",
       "      <th>Before</th>\n",
       "      <th>After</th>\n",
       "    </tr>\n",
       "  </thead>\n",
       "  <tbody>\n",
       "    <tr>\n",
       "      <th>0</th>\n",
       "      <td>Adopted Daughter</td>\n",
       "      <td>13</td>\n",
       "      <td>13</td>\n",
       "    </tr>\n",
       "    <tr>\n",
       "      <th>1</th>\n",
       "      <td>Adopted Granddaughter</td>\n",
       "      <td>1</td>\n",
       "      <td>1</td>\n",
       "    </tr>\n",
       "    <tr>\n",
       "      <th>2</th>\n",
       "      <td>Adopted Grandson</td>\n",
       "      <td>2</td>\n",
       "      <td>2</td>\n",
       "    </tr>\n",
       "    <tr>\n",
       "      <th>3</th>\n",
       "      <td>Adopted Son</td>\n",
       "      <td>14</td>\n",
       "      <td>14</td>\n",
       "    </tr>\n",
       "    <tr>\n",
       "      <th>4</th>\n",
       "      <td>Cousin</td>\n",
       "      <td>32</td>\n",
       "      <td>32</td>\n",
       "    </tr>\n",
       "    <tr>\n",
       "      <th>5</th>\n",
       "      <td>Daughter</td>\n",
       "      <td>1571</td>\n",
       "      <td>1571</td>\n",
       "    </tr>\n",
       "    <tr>\n",
       "      <th>6</th>\n",
       "      <td>Granddaughter</td>\n",
       "      <td>84</td>\n",
       "      <td>85</td>\n",
       "    </tr>\n",
       "    <tr>\n",
       "      <th>7</th>\n",
       "      <td>Grandson</td>\n",
       "      <td>79</td>\n",
       "      <td>83</td>\n",
       "    </tr>\n",
       "    <tr>\n",
       "      <th>8</th>\n",
       "      <td>Head</td>\n",
       "      <td>3342</td>\n",
       "      <td>3342</td>\n",
       "    </tr>\n",
       "    <tr>\n",
       "      <th>9</th>\n",
       "      <td>Husband</td>\n",
       "      <td>949</td>\n",
       "      <td>949</td>\n",
       "    </tr>\n",
       "    <tr>\n",
       "      <th>10</th>\n",
       "      <td>Lodger</td>\n",
       "      <td>421</td>\n",
       "      <td>1006</td>\n",
       "    </tr>\n",
       "    <tr>\n",
       "      <th>11</th>\n",
       "      <td>Neice</td>\n",
       "      <td>7</td>\n",
       "      <td>7</td>\n",
       "    </tr>\n",
       "    <tr>\n",
       "      <th>12</th>\n",
       "      <td>Nephew</td>\n",
       "      <td>9</td>\n",
       "      <td>9</td>\n",
       "    </tr>\n",
       "    <tr>\n",
       "      <th>13</th>\n",
       "      <td>Partner</td>\n",
       "      <td>242</td>\n",
       "      <td>364</td>\n",
       "    </tr>\n",
       "    <tr>\n",
       "      <th>14</th>\n",
       "      <td>Sibling</td>\n",
       "      <td>51</td>\n",
       "      <td>53</td>\n",
       "    </tr>\n",
       "    <tr>\n",
       "      <th>15</th>\n",
       "      <td>Son</td>\n",
       "      <td>1618</td>\n",
       "      <td>1618</td>\n",
       "    </tr>\n",
       "    <tr>\n",
       "      <th>16</th>\n",
       "      <td>Step-Daughter</td>\n",
       "      <td>18</td>\n",
       "      <td>18</td>\n",
       "    </tr>\n",
       "    <tr>\n",
       "      <th>17</th>\n",
       "      <td>Step-Son</td>\n",
       "      <td>15</td>\n",
       "      <td>15</td>\n",
       "    </tr>\n",
       "    <tr>\n",
       "      <th>18</th>\n",
       "      <td>Visitor</td>\n",
       "      <td>28</td>\n",
       "      <td>28</td>\n",
       "    </tr>\n",
       "    <tr>\n",
       "      <th>19</th>\n",
       "      <td>Wife</td>\n",
       "      <td>333</td>\n",
       "      <td>333</td>\n",
       "    </tr>\n",
       "    <tr>\n",
       "      <th>20</th>\n",
       "      <td>NaN</td>\n",
       "      <td>714</td>\n",
       "      <td>0</td>\n",
       "    </tr>\n",
       "  </tbody>\n",
       "</table>\n",
       "</div>"
      ],
      "text/plain": [
       "             Relationship  Before  After\n",
       "0        Adopted Daughter      13     13\n",
       "1   Adopted Granddaughter       1      1\n",
       "2        Adopted Grandson       2      2\n",
       "3             Adopted Son      14     14\n",
       "4                  Cousin      32     32\n",
       "5                Daughter    1571   1571\n",
       "6           Granddaughter      84     85\n",
       "7                Grandson      79     83\n",
       "8                    Head    3342   3342\n",
       "9                 Husband     949    949\n",
       "10                 Lodger     421   1006\n",
       "11                  Neice       7      7\n",
       "12                 Nephew       9      9\n",
       "13                Partner     242    364\n",
       "14                Sibling      51     53\n",
       "15                    Son    1618   1618\n",
       "16          Step-Daughter      18     18\n",
       "17               Step-Son      15     15\n",
       "18                Visitor      28     28\n",
       "19                   Wife     333    333\n",
       "20                    NaN     714      0"
      ]
     },
     "execution_count": 54,
     "metadata": {},
     "output_type": "execute_result"
    }
   ],
   "source": [
    "# Plot before and after in one bar plot for visual comparison\n",
    "plt.figure(figsize=(14, 7))\n",
    "sns.barplot(data=combined_data, x='Relationship', y='Count', hue='Stage', dodge=True)\n",
    "plt.xticks(rotation=45, ha='right')\n",
    "plt.xlabel('Relationship to Head of House')\n",
    "plt.ylabel('Count')\n",
    "plt.title('Count of Each Relationship Type Before and After Imputation')\n",
    "plt.legend(title='Stage')\n",
    "plt.tight_layout()\n",
    "plt.show()\n",
    "\n",
    "all_relationships = pd.Index(before_counts.index).union(after_counts.index)\n",
    "\n",
    "# Reindex both counts to include all relationships, fill missing with 0\n",
    "before_counts_full = before_counts.reindex(all_relationships, fill_value=0)\n",
    "after_counts_full = after_counts.reindex(all_relationships, fill_value=0)\n",
    "\n",
    "# Combine into a single dataframe\n",
    "counts_df = pd.DataFrame({\n",
    "    'Relationship': all_relationships,\n",
    "    'Before': before_counts_full.values,\n",
    "    'After': after_counts_full.values\n",
    "})\n",
    "\n",
    "# Reset index if you prefer 'Relationship' as a column rather than index\n",
    "counts_df = counts_df.reset_index(drop=True)\n",
    "\n",
    "# Display the dataframe\n",
    "print(\"Counts Before and After Imputation:\")\n",
    "counts_df"
   ]
  },
  {
   "cell_type": "code",
   "execution_count": 55,
   "metadata": {},
   "outputs": [],
   "source": [
    "df['Relationship to Head of House'] = fix_relation_df['Relationship to Head of House']"
   ]
  },
  {
   "cell_type": "markdown",
   "metadata": {},
   "source": [
    "### Religion Column"
   ]
  },
  {
   "cell_type": "code",
   "execution_count": 56,
   "metadata": {},
   "outputs": [
    {
     "data": {
      "text/plain": [
       "array([nan, 'Christian', 'Catholic', 'Muslim', 'Methodist', 'Jewish',\n",
       "       'Sikh', 'Nope', 'Undecided', 'Jedi', 'Orthodoxy', 'Pagan',\n",
       "       'Agnostic', 'Housekeeper'], dtype=object)"
      ]
     },
     "execution_count": 56,
     "metadata": {},
     "output_type": "execute_result"
    }
   ],
   "source": [
    "df['Religion'].unique()"
   ]
  },
  {
   "cell_type": "code",
   "execution_count": null,
   "metadata": {},
   "outputs": [],
   "source": [
    "'''Problems:\n",
    "-Some of the religions are invalid\n",
    "-NaN values\n",
    "'''"
   ]
  },
  {
   "cell_type": "code",
   "execution_count": 58,
   "metadata": {},
   "outputs": [],
   "source": [
    "# First remove the invalid religions and replace them with Nan\n",
    "invalid_religions = ['Nope', 'Undecided', 'Jedi', 'Housekeeper']\n",
    "df['Religion'] = df['Religion'].replace(invalid_religions, np.nan)"
   ]
  },
  {
   "cell_type": "code",
   "execution_count": 59,
   "metadata": {},
   "outputs": [],
   "source": [
    "religion_counts = df['Religion'].value_counts()\n",
    "religion_counts_df= pd.DataFrame({\n",
    "    'Religion': religion_counts.index,\n",
    "    'Count': religion_counts.values,\n",
    "}).reset_index(drop=True)"
   ]
  },
  {
   "cell_type": "code",
   "execution_count": 60,
   "metadata": {},
   "outputs": [
    {
     "data": {
      "text/html": [
       "<div>\n",
       "<style scoped>\n",
       "    .dataframe tbody tr th:only-of-type {\n",
       "        vertical-align: middle;\n",
       "    }\n",
       "\n",
       "    .dataframe tbody tr th {\n",
       "        vertical-align: top;\n",
       "    }\n",
       "\n",
       "    .dataframe thead th {\n",
       "        text-align: right;\n",
       "    }\n",
       "</style>\n",
       "<table border=\"1\" class=\"dataframe\">\n",
       "  <thead>\n",
       "    <tr style=\"text-align: right;\">\n",
       "      <th></th>\n",
       "      <th>Religion</th>\n",
       "      <th>Count</th>\n",
       "    </tr>\n",
       "  </thead>\n",
       "  <tbody>\n",
       "    <tr>\n",
       "      <th>0</th>\n",
       "      <td>Christian</td>\n",
       "      <td>2172</td>\n",
       "    </tr>\n",
       "    <tr>\n",
       "      <th>1</th>\n",
       "      <td>Catholic</td>\n",
       "      <td>1043</td>\n",
       "    </tr>\n",
       "    <tr>\n",
       "      <th>2</th>\n",
       "      <td>Methodist</td>\n",
       "      <td>671</td>\n",
       "    </tr>\n",
       "    <tr>\n",
       "      <th>3</th>\n",
       "      <td>Muslim</td>\n",
       "      <td>124</td>\n",
       "    </tr>\n",
       "    <tr>\n",
       "      <th>4</th>\n",
       "      <td>Sikh</td>\n",
       "      <td>56</td>\n",
       "    </tr>\n",
       "    <tr>\n",
       "      <th>5</th>\n",
       "      <td>Jewish</td>\n",
       "      <td>37</td>\n",
       "    </tr>\n",
       "    <tr>\n",
       "      <th>6</th>\n",
       "      <td>Orthodoxy</td>\n",
       "      <td>2</td>\n",
       "    </tr>\n",
       "    <tr>\n",
       "      <th>7</th>\n",
       "      <td>Agnostic</td>\n",
       "      <td>2</td>\n",
       "    </tr>\n",
       "    <tr>\n",
       "      <th>8</th>\n",
       "      <td>Pagan</td>\n",
       "      <td>1</td>\n",
       "    </tr>\n",
       "  </tbody>\n",
       "</table>\n",
       "</div>"
      ],
      "text/plain": [
       "    Religion  Count\n",
       "0  Christian   2172\n",
       "1   Catholic   1043\n",
       "2  Methodist    671\n",
       "3     Muslim    124\n",
       "4       Sikh     56\n",
       "5     Jewish     37\n",
       "6  Orthodoxy      2\n",
       "7   Agnostic      2\n",
       "8      Pagan      1"
      ]
     },
     "execution_count": 60,
     "metadata": {},
     "output_type": "execute_result"
    }
   ],
   "source": [
    "religion_counts_df"
   ]
  },
  {
   "cell_type": "code",
   "execution_count": 61,
   "metadata": {},
   "outputs": [],
   "source": [
    "#Define a function to impute religion within a household\n",
    "def impute_religion_house(group):\n",
    "    # Non-missing religions in the house\n",
    "    non_missing = group['Religion'].dropna()\n",
    "    \n",
    "    if len(non_missing) == 0:\n",
    "        # All missing in house, will handle via street mode later\n",
    "        return group\n",
    "    elif len(non_missing.unique()) == 1:\n",
    "        # One unique religion, fill all with it\n",
    "        group['Religion'] = group['Religion'].fillna(non_missing.iloc[0])\n",
    "    else:\n",
    "        # Multiple religions, use mode\n",
    "        mode_religion = non_missing.mode().iloc[0]\n",
    "        group['Religion'] = group['Religion'].fillna(mode_religion)\n",
    "    \n",
    "    return group\n",
    "\n",
    "#Handle houses with all missing religions using street mode\n",
    "def impute_religion_street(street_group):\n",
    "    # Check houses within the street\n",
    "    still_missing = street_group[street_group['Religion'].isna()]\n",
    "    if len(still_missing) > 0:\n",
    "        # Get mode of non-missing religions on the street\n",
    "        street_non_missing = street_group['Religion'].dropna()\n",
    "        if len(street_non_missing) > 0:  # Use street mode if available\n",
    "            street_mode = street_non_missing.mode().iloc[0]\n",
    "            street_group['Religion'] = street_group['Religion'].fillna(street_mode)\n",
    "        else:  # Use global mode if street has no valid religions\n",
    "            street_group['Religion'] = street_group['Religion'].fillna('Christian')\n",
    "    return street_group\n",
    "\n"
   ]
  },
  {
   "cell_type": "code",
   "execution_count": 62,
   "metadata": {},
   "outputs": [
    {
     "name": "stdout",
     "output_type": "stream",
     "text": [
      "Religion counts after imputation:\n",
      "Religion\n",
      "Christian    5892\n",
      "Catholic     2123\n",
      "Methodist    1176\n",
      "Muslim        189\n",
      "Sikh           94\n",
      "Jewish         56\n",
      "Agnostic       10\n",
      "Orthodoxy       2\n",
      "Pagan           1\n",
      "Name: count, dtype: int64\n",
      "Remaining NaN in Religion: 0\n"
     ]
    },
    {
     "name": "stderr",
     "output_type": "stream",
     "text": [
      "C:\\Users\\seif\\AppData\\Local\\Temp\\ipykernel_19028\\2894434565.py:2: DeprecationWarning: DataFrameGroupBy.apply operated on the grouping columns. This behavior is deprecated, and in a future version of pandas the grouping columns will be excluded from the operation. Either pass `include_groups=False` to exclude the groupings or explicitly select the grouping columns after groupby to silence this warning.\n",
      "  df= df.groupby(['House Number', 'Street'], group_keys=False).apply(impute_religion_house)\n",
      "C:\\Users\\seif\\AppData\\Local\\Temp\\ipykernel_19028\\2894434565.py:6: DeprecationWarning: DataFrameGroupBy.apply operated on the grouping columns. This behavior is deprecated, and in a future version of pandas the grouping columns will be excluded from the operation. Either pass `include_groups=False` to exclude the groupings or explicitly select the grouping columns after groupby to silence this warning.\n",
      "  df = df.groupby('Street', group_keys=False).apply(impute_religion_street)\n"
     ]
    }
   ],
   "source": [
    "# Apply house-level imputation\n",
    "df= df.groupby(['House Number', 'Street'], group_keys=False).apply(impute_religion_house)\n",
    "\n",
    "\n",
    "# Apply street-level imputation for remaining NaN\n",
    "df = df.groupby('Street', group_keys=False).apply(impute_religion_street)\n",
    "\n",
    "# Verify results\n",
    "print(\"Religion counts after imputation:\")\n",
    "print(df['Religion'].value_counts(dropna=False))\n",
    "print(f\"Remaining NaN in Religion: {df['Religion'].isna().sum()}\")\n"
   ]
  },
  {
   "cell_type": "code",
   "execution_count": 63,
   "metadata": {},
   "outputs": [
    {
     "data": {
      "text/plain": [
       "array(['Christian', 'Catholic', 'Muslim', 'Methodist', 'Jewish', 'Sikh',\n",
       "       'Orthodoxy', 'Pagan', 'Agnostic'], dtype=object)"
      ]
     },
     "execution_count": 63,
     "metadata": {},
     "output_type": "execute_result"
    }
   ],
   "source": [
    "df['Religion'].unique()"
   ]
  },
  {
   "cell_type": "markdown",
   "metadata": {},
   "source": [
    "### Infirmity Column"
   ]
  },
  {
   "cell_type": "code",
   "execution_count": 64,
   "metadata": {},
   "outputs": [
    {
     "data": {
      "text/plain": [
       "array([nan, 'Mental Disability', 'Physical Disability',\n",
       "       'Unknown Infection', ' ', 'Blind', 'Deaf', 'Disabled'],\n",
       "      dtype=object)"
      ]
     },
     "execution_count": 64,
     "metadata": {},
     "output_type": "execute_result"
    }
   ],
   "source": [
    "df['Infirmity'].unique()"
   ]
  },
  {
   "cell_type": "code",
   "execution_count": 65,
   "metadata": {},
   "outputs": [
    {
     "data": {
      "text/plain": [
       "Infirmity\n",
       "Physical Disability    20\n",
       "Unknown Infection      18\n",
       "                       15\n",
       "Mental Disability       7\n",
       "Blind                   7\n",
       "Deaf                    6\n",
       "Disabled                5\n",
       "Name: count, dtype: int64"
      ]
     },
     "execution_count": 65,
     "metadata": {},
     "output_type": "execute_result"
    }
   ],
   "source": [
    "df['Infirmity'].value_counts()"
   ]
  },
  {
   "cell_type": "code",
   "execution_count": null,
   "metadata": {},
   "outputs": [],
   "source": [
    "'''\n",
    "Problems:\n",
    "-Most entries are blank, no clear way to determine the infirmity, will be filled with \"Unknown\"\n",
    "'''"
   ]
  },
  {
   "cell_type": "code",
   "execution_count": 67,
   "metadata": {},
   "outputs": [],
   "source": [
    "df['Infirmity'] = df['Infirmity'].replace(' ', 'Unknown')\n",
    "df['Infirmity'] = df['Infirmity'].replace(np.nan, 'Unknown')"
   ]
  },
  {
   "cell_type": "code",
   "execution_count": 68,
   "metadata": {},
   "outputs": [
    {
     "data": {
      "text/plain": [
       "Infirmity\n",
       "Unknown                9480\n",
       "Physical Disability      20\n",
       "Unknown Infection        18\n",
       "Mental Disability         7\n",
       "Blind                     7\n",
       "Deaf                      6\n",
       "Disabled                  5\n",
       "Name: count, dtype: int64"
      ]
     },
     "execution_count": 68,
     "metadata": {},
     "output_type": "execute_result"
    }
   ],
   "source": [
    "df['Infirmity'].value_counts()"
   ]
  },
  {
   "cell_type": "code",
   "execution_count": 69,
   "metadata": {},
   "outputs": [
    {
     "data": {
      "text/plain": [
       "House Number                     0\n",
       "Street                           0\n",
       "First Name                       0\n",
       "Surname                          0\n",
       "Age                              0\n",
       "Relationship to Head of House    0\n",
       "Marital Status                   0\n",
       "Gender                           0\n",
       "Occupation                       0\n",
       "Infirmity                        0\n",
       "Religion                         0\n",
       "dtype: int64"
      ]
     },
     "execution_count": 69,
     "metadata": {},
     "output_type": "execute_result"
    }
   ],
   "source": [
    "df.isna().sum()"
   ]
  },
  {
   "cell_type": "code",
   "execution_count": 70,
   "metadata": {},
   "outputs": [],
   "source": [
    "# Save the new clean dataset into a CSV file\n",
    "output_filename = 'cleaned_dataset.csv'\n",
    "df.to_csv(output_filename, index=False)"
   ]
  },
  {
   "cell_type": "markdown",
   "metadata": {},
   "source": [
    "# Analysis Part"
   ]
  },
  {
   "cell_type": "markdown",
   "metadata": {},
   "source": [
    "### Age Distribution"
   ]
  },
  {
   "cell_type": "code",
   "execution_count": 71,
   "metadata": {},
   "outputs": [
    {
     "data": {
      "image/png": "[encoded data removed]",
      "text/plain": [
       "<Figure size 1000x600 with 1 Axes>"
      ]
     },
     "metadata": {},
     "output_type": "display_data"
    },
    {
     "name": "stdout",
     "output_type": "stream",
     "text": [
      "Children (0-17): 2193 (22.98%)\n",
      "Working Age (18-64): 6358 (66.62%)\n",
      "Retirees (65+): 992 (10.40%)\n"
     ]
    }
   ],
   "source": [
    "plt.figure(figsize=(10, 6))\n",
    "sns.histplot(data=df, x='Age', bins=20)\n",
    "plt.title('Age Distribution of Population')\n",
    "plt.xlabel('Age')\n",
    "plt.ylabel('Count')\n",
    "plt.savefig(\"age_distribution.png\")\n",
    "plt.show()\n",
    "\n",
    "# Key age groups\n",
    "children = len(df[df['Age'] <= 17])  # School-age (0-16)\n",
    "working_age = len(df[(df['Age'] >= 18) & (df['Age'] <= 64)])  # 18-64\n",
    "retirees = len(df[df['Age'] >= 65])  # 65+\n",
    "total_pop = len(df)\n",
    "\n",
    "print(f\"Children (0-17): {children} ({children/total_pop:.2%})\")\n",
    "print(f\"Working Age (18-64): {working_age} ({working_age/total_pop:.2%})\")\n",
    "print(f\"Retirees (65+): {retirees} ({retirees/total_pop:.2%})\")"
   ]
  },
  {
   "cell_type": "markdown",
   "metadata": {},
   "source": [
    "### Age Pyramid"
   ]
  },
  {
   "cell_type": "code",
   "execution_count": 72,
   "metadata": {},
   "outputs": [
    {
     "data": {
      "image/png": "[encoded data removed]",
      "text/plain": [
       "<Figure size 1200x800 with 1 Axes>"
      ]
     },
     "metadata": {},
     "output_type": "display_data"
    },
    {
     "name": "stdout",
     "output_type": "stream",
     "text": [
      "Total Males: 4562 (47.80%)\n",
      "Total Females: 4981 (52.20%)\n",
      "\n",
      "Male Age Breakdown:\n",
      "Children (0-16): 1045 (22.91%)\n",
      "Working Age (17-64): 3057 (67.01%)\n",
      "Retirees (65+): 460 (10.08%)\n",
      "\n",
      "Female Age Breakdown:\n",
      "Children (0-16): 1004 (20.16%)\n",
      "Working Age (17-64): 3445 (69.16%)\n",
      "Retirees (65+): 532 (10.68%)\n"
     ]
    }
   ],
   "source": [
    "age_bins = range(0, 115, 8)  # 0-4, 5-9, ..., 110-114\n",
    "age_labels = [f'{i+1}-{i+8}' for i in range(-1, 110, 8)]  # 0-4, 5-9, ..., 105-109\n",
    "\n",
    "# Group by age bins and gender\n",
    "df['Age_Group'] = pd.cut(df['Age'], bins=age_bins, labels=age_labels, right=False)\n",
    "age_gender_counts = df.groupby(['Age_Group', 'Gender'], observed=True).size().unstack(fill_value=0)\n",
    "\n",
    "# Prepare data for pyramid: Males negative, Females positive\n",
    "age_gender_counts['Male'] = -age_gender_counts['Male']  # Negative for left side\n",
    "\n",
    "# Create the age pyramid\n",
    "plt.figure(figsize=(12, 8))\n",
    "sns.barplot(x='Male', y=age_gender_counts.index, data=age_gender_counts, color='blue', label='Male')\n",
    "sns.barplot(x='Female', y=age_gender_counts.index, data=age_gender_counts, color='red', label='Female')\n",
    "\n",
    "# Customize plot\n",
    "plt.title('Age Pyramid by Gender', fontsize=16)\n",
    "plt.xlabel('Population Count', fontsize=12)\n",
    "plt.ylabel('Age Group', fontsize=12)\n",
    "plt.axvline(0, color='black', linewidth=1)  # Central axis\n",
    "plt.legend(title='Gender')\n",
    "plt.grid(axis='x', linestyle='--', alpha=0.7)\n",
    "\n",
    "# Set symmetric x-axis starting at 0\n",
    "max_count = max(age_gender_counts['Male'].abs().max(), age_gender_counts['Female'].max())\n",
    "step = 100  # Adjust step size as needed (e.g., 50, 100, 200)\n",
    "ticks = list(range(0, int(max_count) + step, step))  # Positive ticks: 0, 100, 200, ...\n",
    "xticks = [-x for x in ticks[::-1] if x != 0] + ticks  # Symmetric: -500, -400, ..., 0, 100, ...\n",
    "plt.xlim(-max_count * 1.1, max_count * 1.1)  # Add padding\n",
    "plt.xticks(ticks=xticks, labels=[abs(x) for x in xticks])  # Labels as absolute values\n",
    "plt.savefig(\"age_pyramid.png\")\n",
    "plt.show()\n",
    "\n",
    "# Summary stats\n",
    "total_male = df['Gender'].value_counts()['Male']\n",
    "total_female = df['Gender'].value_counts()['Female']\n",
    "print(f\"Total Males: {total_male} ({total_male/len(df):.2%})\")\n",
    "print(f\"Total Females: {total_female} ({total_female/len(df):.2%})\")\n",
    "\n",
    "# Key age groups by gender\n",
    "for gender in ['Male', 'Female']:\n",
    "    print(f\"\\n{gender} Age Breakdown:\")\n",
    "    children = df[(df['Gender'] == gender) & (df['Age'] <= 16)].shape[0]\n",
    "    working = df[(df['Gender'] == gender) & (df['Age'].between(17, 64))].shape[0]\n",
    "    retirees = df[(df['Gender'] == gender) & (df['Age'] >= 65)].shape[0]\n",
    "    print(f\"Children (0-16): {children} ({children/total_male if gender == 'Male' else children/total_female:.2%})\")\n",
    "    print(f\"Working Age (17-64): {working} ({working/total_male if gender == 'Male' else working/total_female:.2%})\")\n",
    "    print(f\"Retirees (65+): {retirees} ({retirees/total_male if gender == 'Male' else retirees/total_female:.2%})\")"
   ]
  },
  {
   "cell_type": "markdown",
   "metadata": {},
   "source": [
    "### House Hold Occupancy"
   ]
  },
  {
   "cell_type": "code",
   "execution_count": 73,
   "metadata": {},
   "outputs": [
    {
     "name": "stdout",
     "output_type": "stream",
     "text": [
      "Occupancy Stats:\n",
      "count    3332.000000\n",
      "mean        2.864046\n",
      "std         2.119474\n",
      "min         1.000000\n",
      "25%         1.000000\n",
      "50%         2.000000\n",
      "75%         4.000000\n",
      "max        22.000000\n",
      "dtype: float64\n"
     ]
    },
    {
     "data": {
      "image/png": "[encoded data removed]",
      "text/plain": [
       "<Figure size 1000x600 with 1 Axes>"
      ]
     },
     "metadata": {},
     "output_type": "display_data"
    }
   ],
   "source": [
    "occupancy = df.groupby(['House Number', 'Street']).size()\n",
    "print(\"Occupancy Stats:\")\n",
    "print(occupancy.describe())\n",
    "\n",
    "plt.figure(figsize=(10, 6))\n",
    "sns.histplot(occupancy, bins=22)\n",
    "plt.title('Household Occupancy Distribution')\n",
    "plt.xlabel('People per House')\n",
    "plt.ylabel('Number of Houses')\n",
    "plt.savefig(\"Household_Occupancy_Distribution.png\")\n",
    "plt.show()"
   ]
  },
  {
   "cell_type": "markdown",
   "metadata": {},
   "source": [
    "### Marital Status By age distribution"
   ]
  },
  {
   "cell_type": "code",
   "execution_count": 74,
   "metadata": {},
   "outputs": [
    {
     "name": "stdout",
     "output_type": "stream",
     "text": [
      "Marital Status Distribution (Excluding Children):\n",
      "Marital Status\n",
      "Single      3456\n",
      "Married     2574\n",
      "N/A         2193\n",
      "Divorced     910\n",
      "Widowed      410\n",
      "Name: count, dtype: int64\n"
     ]
    },
    {
     "name": "stderr",
     "output_type": "stream",
     "text": [
      "C:\\Users\\seif\\AppData\\Local\\Temp\\ipykernel_19028\\1580589075.py:9: FutureWarning: \n",
      "\n",
      "Passing `palette` without assigning `hue` is deprecated and will be removed in v0.14.0. Assign the `x` variable to `hue` and set `legend=False` for the same effect.\n",
      "\n",
      "  sns.boxplot(x='Marital Status', y='Age', data=df_adults, palette='tab10')\n"
     ]
    },
    {
     "data": {
      "image/png": "[encoded data removed]",
      "text/plain": [
       "<Figure size 1200x800 with 1 Axes>"
      ]
     },
     "metadata": {},
     "output_type": "display_data"
    }
   ],
   "source": [
    "# Verify Marital Status values\n",
    "print(\"Marital Status Distribution (Excluding Children):\")\n",
    "print(df['Marital Status'].value_counts(dropna=True))\n",
    "# Filter out 'N/A'\n",
    "df_adults = df[df['Marital Status'] != 'N/A']\n",
    "\n",
    "# Plot: Box plot of Age by Marital Status (excluding 'N/A')\n",
    "plt.figure(figsize=(12, 8))\n",
    "sns.boxplot(x='Marital Status', y='Age', data=df_adults, palette='tab10')\n",
    "\n",
    "# Customize the plot\n",
    "plt.title('Age Distribution by Marital Status', fontsize=16)\n",
    "plt.xlabel('Marital Status', fontsize=12)\n",
    "plt.ylabel('Age', fontsize=12)\n",
    "plt.xticks(rotation=45, ha='right')  # Rotate labels\n",
    "plt.grid(axis='y', linestyle='--', alpha=0.7)\n",
    "plt.tight_layout()\n",
    "plt.savefig(\"Age_Distribution_by_Marital_Status\")\n",
    "plt.show()"
   ]
  },
  {
   "cell_type": "markdown",
   "metadata": {},
   "source": [
    "### Marital Status Rates (Adults)"
   ]
  },
  {
   "cell_type": "code",
   "execution_count": 75,
   "metadata": {},
   "outputs": [
    {
     "name": "stdout",
     "output_type": "stream",
     "text": [
      "Marital Status Distribution (All):\n",
      "Marital Status\n",
      "Single      3456\n",
      "Married     2574\n",
      "N/A         2193\n",
      "Divorced     910\n",
      "Widowed      410\n",
      "Name: count, dtype: int64\n",
      "Total Adults (excluding 'N/A'): 7350\n",
      "\n",
      "Marital Status Rates (Excluding 'N/A'):\n",
      "                Count  Rate (%)\n",
      "Marital Status                 \n",
      "Single           3456     47.02\n",
      "Married          2574     35.02\n",
      "Divorced          910     12.38\n",
      "Widowed           410      5.58\n",
      "\n",
      "Sum of Rates: 100.00%\n"
     ]
    },
    {
     "name": "stderr",
     "output_type": "stream",
     "text": [
      "C:\\Users\\seif\\AppData\\Local\\Temp\\ipykernel_19028\\965399466.py:33: FutureWarning: \n",
      "\n",
      "Passing `palette` without assigning `hue` is deprecated and will be removed in v0.14.0. Assign the `x` variable to `hue` and set `legend=False` for the same effect.\n",
      "\n",
      "  sns.barplot(x=marital_stats.index, y='Rate (%)', data=marital_stats, palette='tab10')\n"
     ]
    },
    {
     "data": {
      "image/png": "[encoded data removed]",
      "text/plain": [
       "<Figure size 1000x600 with 1 Axes>"
      ]
     },
     "metadata": {},
     "output_type": "display_data"
    }
   ],
   "source": [
    "print(\"Marital Status Distribution (All):\")\n",
    "print(df['Marital Status'].value_counts(dropna=False))\n",
    "\n",
    "# Filter out 'N/A'\n",
    "df_adults = df[df['Marital Status'] != 'N/A']\n",
    "total_adults = len(df_adults)\n",
    "\n",
    "# Calculate counts and rates for each status (excluding 'N/A')\n",
    "marital_counts = df_adults['Marital Status'].value_counts()\n",
    "marital_rates = (marital_counts / total_adults * 100).round(2)\n",
    "\n",
    "# Combine into a DataFrame\n",
    "marital_stats = pd.DataFrame({\n",
    "    'Count': marital_counts,\n",
    "    'Rate (%)': marital_rates\n",
    "})\n",
    "\n",
    "# Print results for reference\n",
    "print(f\"Total Adults (excluding 'N/A'): {total_adults}\")\n",
    "print(\"\\nMarital Status Rates (Excluding 'N/A'):\")\n",
    "print(marital_stats)\n",
    "\n",
    "# Verify sum of rates\n",
    "print(f\"\\nSum of Rates: {marital_rates.sum():.2f}%\")\n",
    "\n",
    "marital_stats = pd.DataFrame({\n",
    "    'Count': marital_counts,\n",
    "    'Rate (%)': marital_rates\n",
    "})\n",
    "\n",
    "# Create the plot\n",
    "plt.figure(figsize=(10, 6))\n",
    "sns.barplot(x=marital_stats.index, y='Rate (%)', data=marital_stats, palette='tab10')\n",
    "\n",
    "# Add percentage and count labels on top of bars\n",
    "for i, (count, rate) in enumerate(zip(marital_stats['Count'], marital_stats['Rate (%)'])):\n",
    "    plt.text(i, rate + 1, f'{rate}% ({count})', ha='center', va='bottom', fontsize=10)\n",
    "\n",
    "# Customize the plot\n",
    "plt.title('Marital Status Rates Among Adults', fontsize=16)\n",
    "plt.xlabel('Marital Status', fontsize=12)\n",
    "plt.ylabel('Percentage of Adult Population', fontsize=12)\n",
    "plt.ylim(0, max(marital_rates) + 10)  # Add space for labels\n",
    "plt.tight_layout()\n",
    "plt.savefig(\"Marital_Status_Rates_Among_Adults\")\n",
    "# Display the plot\n",
    "plt.show()\n",
    "\n"
   ]
  },
  {
   "cell_type": "markdown",
   "metadata": {},
   "source": [
    "### Occupation"
   ]
  },
  {
   "cell_type": "code",
   "execution_count": 76,
   "metadata": {},
   "outputs": [
    {
     "name": "stderr",
     "output_type": "stream",
     "text": [
      "C:\\Users\\seif\\AppData\\Local\\Temp\\ipykernel_19028\\1550121174.py:16: FutureWarning: \n",
      "\n",
      "Passing `palette` without assigning `hue` is deprecated and will be removed in v0.14.0. Assign the `y` variable to `hue` and set `legend=False` for the same effect.\n",
      "\n",
      "  sns.barplot(x='Count', y='Occupation', data=occupation_data, palette='viridis')\n"
     ]
    },
    {
     "data": {
      "image/png": "[encoded data removed]",
      "text/plain": [
       "<Figure size 1200x800 with 1 Axes>"
      ]
     },
     "metadata": {},
     "output_type": "display_data"
    },
    {
     "name": "stdout",
     "output_type": "stream",
     "text": [
      "                                    Count  Percentage\n",
      "Occupation                                           \n",
      "Student                              1796       18.82\n",
      "University Student                    672        7.04\n",
      "Unemployed                            586        6.14\n",
      "Child                                 517        5.42\n",
      "Licensed conveyancer                   19        0.20\n",
      "Electrical engineer                    18        0.19\n",
      "Logistics and distribution manager     17        0.18\n",
      "Psychologist, occupational             17        0.18\n",
      "Petroleum engineer                     17        0.18\n",
      "Clinical cytogeneticist                17        0.18\n"
     ]
    }
   ],
   "source": [
    "# Get the top 10 occupations\n",
    "occupation_counts = df['Occupation'].value_counts().head(10)\n",
    "total_pop = len(df)\n",
    "\n",
    "# Calculate percentages\n",
    "occupation_percent = (occupation_counts / total_pop * 100).round(2)\n",
    "\n",
    "# Combine counts and percentages for display\n",
    "occupation_data = pd.DataFrame({\n",
    "    'Count': occupation_counts.values,\n",
    "    'Percentage': occupation_percent\n",
    "})\n",
    "\n",
    "# Create the plot\n",
    "plt.figure(figsize=(12, 8))\n",
    "sns.barplot(x='Count', y='Occupation', data=occupation_data, palette='viridis')\n",
    "\n",
    "\n",
    "\n",
    "# Customize the plot\n",
    "plt.title('Top 10 Occupations in the Population', fontsize=16)\n",
    "plt.xlabel('Number of Individuals', fontsize=12)\n",
    "plt.ylabel('Occupation', fontsize=12)\n",
    "plt.tight_layout()\n",
    "plt.savefig(\"Occupations_in_the_Population.png\")\n",
    "# Display the plot\n",
    "plt.show()\n",
    "\n",
    "# Print the data for reference\n",
    "print(occupation_data)"
   ]
  },
  {
   "cell_type": "markdown",
   "metadata": {},
   "source": [
    "### Commuters"
   ]
  },
  {
   "cell_type": "code",
   "execution_count": 77,
   "metadata": {},
   "outputs": [
    {
     "data": {
      "image/png": "[encoded data removed]",
      "text/plain": [
       "<Figure size 640x480 with 1 Axes>"
      ]
     },
     "metadata": {},
     "output_type": "display_data"
    }
   ],
   "source": [
    "# Define keywords for commuter job types\n",
    "commuter_keywords = ['university student', 'phd student', 'manager', 'sales', 'engineer', 'consultant', 'technician', 'analyst']\n",
    "\n",
    "# Function to check if any commuter keyword appears in the occupation (case-insensitive)\n",
    "def is_commuter(occupation):\n",
    "    occupation_lower = str(occupation).lower()  # ensure it's a string and lowercase\n",
    "    return any(keyword in occupation_lower for keyword in commuter_keywords)\n",
    "\n",
    "# Apply the function\n",
    "df['Commuter'] = df['Occupation'].apply(is_commuter)\n",
    "\n",
    "# Plot the result\n",
    "sns.countplot(x='Commuter', data=df)\n",
    "plt.title('Commuters in the Population')\n",
    "plt.xticks([0, 1], ['Non-Commuter', 'Commuter'])\n",
    "plt.savefig(\"Commuters_in_the_Population.png\")\n",
    "plt.show()"
   ]
  },
  {
   "cell_type": "code",
   "execution_count": 78,
   "metadata": {},
   "outputs": [
    {
     "data": {
      "text/plain": [
       "Occupation\n",
       "University Student                    672\n",
       "Electrical engineer                    18\n",
       "Engineer, chemical                     17\n",
       "Logistics and distribution manager     17\n",
       "Petroleum engineer                     17\n",
       "Production engineer                    16\n",
       "PhD Student                            16\n",
       "IT sales professional                  13\n",
       "Sales professional, IT                 13\n",
       "Restaurant manager, fast food          13\n",
       "Chemical engineer                      12\n",
       "Broadcast engineer                     12\n",
       "Contracting civil engineer             12\n",
       "Engineer, aeronautical                 11\n",
       "Management consultant                  11\n",
       "Civil engineer, contracting            11\n",
       "Engineer, mining                       11\n",
       "Engineer, communications               11\n",
       "Systems analyst                        11\n",
       "Recruitment consultant                 11\n",
       "Name: count, dtype: int64"
      ]
     },
     "execution_count": 78,
     "metadata": {},
     "output_type": "execute_result"
    }
   ],
   "source": [
    "# Show sample commuter occupations\n",
    "df[df['Commuter'] == True]['Occupation'].value_counts().head(20)"
   ]
  },
  {
   "cell_type": "markdown",
   "metadata": {},
   "source": [
    "### Unemployed Rate"
   ]
  },
  {
   "cell_type": "code",
   "execution_count": 79,
   "metadata": {},
   "outputs": [
    {
     "name": "stdout",
     "output_type": "stream",
     "text": [
      "Labor Force (18+, excl. Child/Students): 6542\n",
      "Employed: 5956\n",
      "Unemployed: 586\n",
      "Unemployment Rate: 8.96%\n",
      "\n",
      "Excluded Occupations Check:\n",
      "Child: 517\n",
      "Student: 1796\n",
      "University Student: 672\n",
      "PhD Student: 16\n"
     ]
    },
    {
     "data": {
      "image/png": "[encoded data removed]",
      "text/plain": [
       "<Figure size 1200x800 with 1 Axes>"
      ]
     },
     "metadata": {},
     "output_type": "display_data"
    }
   ],
   "source": [
    "# Define exclusions\n",
    "exclude_occupations = ['Child', 'Student', 'University Student', 'PhD Student']\n",
    "\n",
    "# Filter to working-age population (18+), excluding students and children\n",
    "labor_force_df = df[(df['Age'] >= 18) & (~df['Occupation'].isin(exclude_occupations))]\n",
    "\n",
    "# Calculate employed and unemployed\n",
    "unemployed = labor_force_df[labor_force_df['Occupation'] == 'Unemployed'].shape[0]\n",
    "total_labor_force = labor_force_df.shape[0]\n",
    "employed = total_labor_force - unemployed\n",
    "\n",
    "# Unemployment rate\n",
    "unemployment_rate = ((unemployed / total_labor_force) * 100) if total_labor_force > 0 else 0\n",
    "\n",
    "# Print results\n",
    "print(f\"Labor Force (18+, excl. Child/Students): {total_labor_force}\")\n",
    "print(f\"Employed: {employed}\")\n",
    "print(f\"Unemployed: {unemployed}\")\n",
    "print(f\"Unemployment Rate: {unemployment_rate:.2f}%\")\n",
    "\n",
    "# Verify occupation exclusions\n",
    "print(\"\\nExcluded Occupations Check:\")\n",
    "for occupation in exclude_occupations:\n",
    "    count = df[df['Occupation'] == occupation].shape[0]\n",
    "    print(f\"{occupation}: {count}\")\n",
    "\n",
    "unemployed = labor_force_df[labor_force_df['Occupation'] == 'Unemployed']\n",
    "\n",
    "plt.figure(figsize=(12, 8))\n",
    "sns.boxplot(x='Occupation', y='Age', data=unemployed)\n",
    "plt.title('Unemployed age distribution', fontsize=16)\n",
    "plt.xlabel('Unemployed', fontsize=12)\n",
    "plt.ylabel('Age', fontsize=12)\n",
    "plt.tight_layout()\n",
    "plt.savefig(\"Unemployed_age_distribution.png\")\n",
    "plt.show()"
   ]
  },
  {
   "cell_type": "markdown",
   "metadata": {},
   "source": [
    "### Religion"
   ]
  },
  {
   "cell_type": "code",
   "execution_count": 80,
   "metadata": {},
   "outputs": [
    {
     "name": "stdout",
     "output_type": "stream",
     "text": [
      "Religion Distribution:\n",
      "Religion\n",
      "Christian    5892\n",
      "Catholic     2123\n",
      "Methodist    1176\n",
      "Muslim        189\n",
      "Sikh           94\n",
      "Jewish         56\n",
      "Agnostic       10\n",
      "Orthodoxy       2\n",
      "Pagan           1\n",
      "Name: count, dtype: int64\n"
     ]
    },
    {
     "data": {
      "image/png": "[encoded data removed]",
      "text/plain": [
       "<Figure size 1000x600 with 1 Axes>"
      ]
     },
     "metadata": {},
     "output_type": "display_data"
    }
   ],
   "source": [
    "religion_counts = df['Religion'].value_counts()\n",
    "print(\"Religion Distribution:\")\n",
    "print(religion_counts)\n",
    "\n",
    "plt.figure(figsize=(10, 6))\n",
    "religion_counts.plot(kind='bar')\n",
    "plt.title('Religious Affiliations')\n",
    "plt.xlabel('Religion')\n",
    "plt.ylabel('Count')\n",
    "plt.xticks(rotation=45, ha='right')\n",
    "plt.savefig(\"religion_affiliation.png\")\n",
    "plt.show()"
   ]
  }
 ],
 "metadata": {
  "kernelspec": {
   "display_name": "Computer_Vision",
   "language": "python",
   "name": "computer_vision"
  },
  "language_info": {
   "codemirror_mode": {
    "name": "ipython",
    "version": 3
   },
   "file_extension": ".py",
   "mimetype": "text/x-python",
   "name": "python",
   "nbconvert_exporter": "python",
   "pygments_lexer": "ipython3",
   "version": "3.11.7"
  }
 },
 "nbformat": 4,
 "nbformat_minor": 2
}
